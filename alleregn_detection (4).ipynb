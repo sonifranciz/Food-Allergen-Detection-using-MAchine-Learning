{
  "nbformat": 4,
  "nbformat_minor": 0,
  "metadata": {
    "colab": {
      "provenance": []
    },
    "kernelspec": {
      "name": "python3",
      "display_name": "Python 3"
    },
    "language_info": {
      "name": "python"
    }
  },
  "cells": [
    {
      "cell_type": "markdown",
      "source": [
        "# Initial Setup (install & import all required libraries )"
      ],
      "metadata": {
        "id": "ry88IAiddyta"
      }
    },
    {
      "cell_type": "code",
      "execution_count": 234,
      "metadata": {
        "id": "MYNgpFloWBga",
        "colab": {
          "base_uri": "https://localhost:8080/"
        },
        "outputId": "8e640a1e-3a60-4a0c-e89e-dd2cbcb29567"
      },
      "outputs": [
        {
          "output_type": "stream",
          "name": "stdout",
          "text": [
            "Drive already mounted at /content/gdrive; to attempt to forcibly remount, call drive.mount(\"/content/gdrive\", force_remount=True).\n"
          ]
        }
      ],
      "source": [
        "# This code mounts your Google Drive in the Colab environment\n",
        "# You can access files and directories from your Google Drive account\n",
        "\n",
        "from google.colab import drive\n",
        "drive.mount('/content/gdrive')"
      ]
    },
    {
      "cell_type": "markdown",
      "source": [
        "Dataset link from Kaggle: **https://www.kaggle.com/datasets/uom190346a/food-ingredients-and-allergens**"
      ],
      "metadata": {
        "id": "rNuEr9wCZkch"
      }
    },
    {
      "cell_type": "code",
      "source": [
        "path=\"/content/gdrive/MyDrive/Food Ingredient/food_ingredients_and_allergens.csv\""
      ],
      "metadata": {
        "id": "aGP4gzixZyIv"
      },
      "execution_count": 235,
      "outputs": []
    },
    {
      "cell_type": "code",
      "source": [
        "import pandas as pd\n",
        "import numpy as np"
      ],
      "metadata": {
        "id": "VVJPphiCZ9vS"
      },
      "execution_count": 236,
      "outputs": []
    },
    {
      "cell_type": "code",
      "source": [
        "df=pd.read_csv(path)"
      ],
      "metadata": {
        "id": "HQHw6TJhaQuQ"
      },
      "execution_count": 237,
      "outputs": []
    },
    {
      "cell_type": "markdown",
      "source": [
        "# Data Cleaning - replacing the null values, mean values"
      ],
      "metadata": {
        "id": "nxQk8-TzmYTJ"
      }
    },
    {
      "cell_type": "code",
      "source": [
        "df.head()"
      ],
      "metadata": {
        "colab": {
          "base_uri": "https://localhost:8080/",
          "height": 206
        },
        "id": "8mHFFvxEmvex",
        "outputId": "29de8731-a8c6-450d-88af-511b65644e5c"
      },
      "execution_count": 238,
      "outputs": [
        {
          "output_type": "execute_result",
          "data": {
            "text/plain": [
              "          Food Product Main Ingredient Sweetener Fat/Oil Seasoning  \\\n",
              "0       Almond Cookies         Almonds     Sugar  Butter     Flour   \n",
              "1       Almond Cookies         Almonds     Sugar  Butter     Flour   \n",
              "2  Chicken Noodle Soup   Chicken broth      None    None      Salt   \n",
              "3  Chicken Noodle Soup   Chicken broth      None    None      Salt   \n",
              "4       Cheddar Cheese          Cheese      None    None      Salt   \n",
              "\n",
              "                Allergens Prediction  \n",
              "0   Almonds, Wheat, Dairy   Contains  \n",
              "1   Almonds, Wheat, Dairy   Contains  \n",
              "2  Chicken, Wheat, Celery   Contains  \n",
              "3  Chicken, Wheat, Celery   Contains  \n",
              "4                   Dairy   Contains  "
            ],
            "text/html": [
              "\n",
              "  <div id=\"df-f42f9991-3e6d-41ca-b445-59470a02e80f\" class=\"colab-df-container\">\n",
              "    <div>\n",
              "<style scoped>\n",
              "    .dataframe tbody tr th:only-of-type {\n",
              "        vertical-align: middle;\n",
              "    }\n",
              "\n",
              "    .dataframe tbody tr th {\n",
              "        vertical-align: top;\n",
              "    }\n",
              "\n",
              "    .dataframe thead th {\n",
              "        text-align: right;\n",
              "    }\n",
              "</style>\n",
              "<table border=\"1\" class=\"dataframe\">\n",
              "  <thead>\n",
              "    <tr style=\"text-align: right;\">\n",
              "      <th></th>\n",
              "      <th>Food Product</th>\n",
              "      <th>Main Ingredient</th>\n",
              "      <th>Sweetener</th>\n",
              "      <th>Fat/Oil</th>\n",
              "      <th>Seasoning</th>\n",
              "      <th>Allergens</th>\n",
              "      <th>Prediction</th>\n",
              "    </tr>\n",
              "  </thead>\n",
              "  <tbody>\n",
              "    <tr>\n",
              "      <th>0</th>\n",
              "      <td>Almond Cookies</td>\n",
              "      <td>Almonds</td>\n",
              "      <td>Sugar</td>\n",
              "      <td>Butter</td>\n",
              "      <td>Flour</td>\n",
              "      <td>Almonds, Wheat, Dairy</td>\n",
              "      <td>Contains</td>\n",
              "    </tr>\n",
              "    <tr>\n",
              "      <th>1</th>\n",
              "      <td>Almond Cookies</td>\n",
              "      <td>Almonds</td>\n",
              "      <td>Sugar</td>\n",
              "      <td>Butter</td>\n",
              "      <td>Flour</td>\n",
              "      <td>Almonds, Wheat, Dairy</td>\n",
              "      <td>Contains</td>\n",
              "    </tr>\n",
              "    <tr>\n",
              "      <th>2</th>\n",
              "      <td>Chicken Noodle Soup</td>\n",
              "      <td>Chicken broth</td>\n",
              "      <td>None</td>\n",
              "      <td>None</td>\n",
              "      <td>Salt</td>\n",
              "      <td>Chicken, Wheat, Celery</td>\n",
              "      <td>Contains</td>\n",
              "    </tr>\n",
              "    <tr>\n",
              "      <th>3</th>\n",
              "      <td>Chicken Noodle Soup</td>\n",
              "      <td>Chicken broth</td>\n",
              "      <td>None</td>\n",
              "      <td>None</td>\n",
              "      <td>Salt</td>\n",
              "      <td>Chicken, Wheat, Celery</td>\n",
              "      <td>Contains</td>\n",
              "    </tr>\n",
              "    <tr>\n",
              "      <th>4</th>\n",
              "      <td>Cheddar Cheese</td>\n",
              "      <td>Cheese</td>\n",
              "      <td>None</td>\n",
              "      <td>None</td>\n",
              "      <td>Salt</td>\n",
              "      <td>Dairy</td>\n",
              "      <td>Contains</td>\n",
              "    </tr>\n",
              "  </tbody>\n",
              "</table>\n",
              "</div>\n",
              "    <div class=\"colab-df-buttons\">\n",
              "\n",
              "  <div class=\"colab-df-container\">\n",
              "    <button class=\"colab-df-convert\" onclick=\"convertToInteractive('df-f42f9991-3e6d-41ca-b445-59470a02e80f')\"\n",
              "            title=\"Convert this dataframe to an interactive table.\"\n",
              "            style=\"display:none;\">\n",
              "\n",
              "  <svg xmlns=\"http://www.w3.org/2000/svg\" height=\"24px\" viewBox=\"0 -960 960 960\">\n",
              "    <path d=\"M120-120v-720h720v720H120Zm60-500h600v-160H180v160Zm220 220h160v-160H400v160Zm0 220h160v-160H400v160ZM180-400h160v-160H180v160Zm440 0h160v-160H620v160ZM180-180h160v-160H180v160Zm440 0h160v-160H620v160Z\"/>\n",
              "  </svg>\n",
              "    </button>\n",
              "\n",
              "  <style>\n",
              "    .colab-df-container {\n",
              "      display:flex;\n",
              "      gap: 12px;\n",
              "    }\n",
              "\n",
              "    .colab-df-convert {\n",
              "      background-color: #E8F0FE;\n",
              "      border: none;\n",
              "      border-radius: 50%;\n",
              "      cursor: pointer;\n",
              "      display: none;\n",
              "      fill: #1967D2;\n",
              "      height: 32px;\n",
              "      padding: 0 0 0 0;\n",
              "      width: 32px;\n",
              "    }\n",
              "\n",
              "    .colab-df-convert:hover {\n",
              "      background-color: #E2EBFA;\n",
              "      box-shadow: 0px 1px 2px rgba(60, 64, 67, 0.3), 0px 1px 3px 1px rgba(60, 64, 67, 0.15);\n",
              "      fill: #174EA6;\n",
              "    }\n",
              "\n",
              "    .colab-df-buttons div {\n",
              "      margin-bottom: 4px;\n",
              "    }\n",
              "\n",
              "    [theme=dark] .colab-df-convert {\n",
              "      background-color: #3B4455;\n",
              "      fill: #D2E3FC;\n",
              "    }\n",
              "\n",
              "    [theme=dark] .colab-df-convert:hover {\n",
              "      background-color: #434B5C;\n",
              "      box-shadow: 0px 1px 3px 1px rgba(0, 0, 0, 0.15);\n",
              "      filter: drop-shadow(0px 1px 2px rgba(0, 0, 0, 0.3));\n",
              "      fill: #FFFFFF;\n",
              "    }\n",
              "  </style>\n",
              "\n",
              "    <script>\n",
              "      const buttonEl =\n",
              "        document.querySelector('#df-f42f9991-3e6d-41ca-b445-59470a02e80f button.colab-df-convert');\n",
              "      buttonEl.style.display =\n",
              "        google.colab.kernel.accessAllowed ? 'block' : 'none';\n",
              "\n",
              "      async function convertToInteractive(key) {\n",
              "        const element = document.querySelector('#df-f42f9991-3e6d-41ca-b445-59470a02e80f');\n",
              "        const dataTable =\n",
              "          await google.colab.kernel.invokeFunction('convertToInteractive',\n",
              "                                                    [key], {});\n",
              "        if (!dataTable) return;\n",
              "\n",
              "        const docLinkHtml = 'Like what you see? Visit the ' +\n",
              "          '<a target=\"_blank\" href=https://colab.research.google.com/notebooks/data_table.ipynb>data table notebook</a>'\n",
              "          + ' to learn more about interactive tables.';\n",
              "        element.innerHTML = '';\n",
              "        dataTable['output_type'] = 'display_data';\n",
              "        await google.colab.output.renderOutput(dataTable, element);\n",
              "        const docLink = document.createElement('div');\n",
              "        docLink.innerHTML = docLinkHtml;\n",
              "        element.appendChild(docLink);\n",
              "      }\n",
              "    </script>\n",
              "  </div>\n",
              "\n",
              "\n",
              "<div id=\"df-9db41c49-b65c-413a-83ee-1aa5fca8b47d\">\n",
              "  <button class=\"colab-df-quickchart\" onclick=\"quickchart('df-9db41c49-b65c-413a-83ee-1aa5fca8b47d')\"\n",
              "            title=\"Suggest charts.\"\n",
              "            style=\"display:none;\">\n",
              "\n",
              "<svg xmlns=\"http://www.w3.org/2000/svg\" height=\"24px\"viewBox=\"0 0 24 24\"\n",
              "     width=\"24px\">\n",
              "    <g>\n",
              "        <path d=\"M19 3H5c-1.1 0-2 .9-2 2v14c0 1.1.9 2 2 2h14c1.1 0 2-.9 2-2V5c0-1.1-.9-2-2-2zM9 17H7v-7h2v7zm4 0h-2V7h2v10zm4 0h-2v-4h2v4z\"/>\n",
              "    </g>\n",
              "</svg>\n",
              "  </button>\n",
              "\n",
              "<style>\n",
              "  .colab-df-quickchart {\n",
              "    background-color: #E8F0FE;\n",
              "    border: none;\n",
              "    border-radius: 50%;\n",
              "    cursor: pointer;\n",
              "    display: none;\n",
              "    fill: #1967D2;\n",
              "    height: 32px;\n",
              "    padding: 0 0 0 0;\n",
              "    width: 32px;\n",
              "  }\n",
              "\n",
              "  .colab-df-quickchart:hover {\n",
              "    background-color: #E2EBFA;\n",
              "    box-shadow: 0px 1px 2px rgba(60, 64, 67, 0.3), 0px 1px 3px 1px rgba(60, 64, 67, 0.15);\n",
              "    fill: #174EA6;\n",
              "  }\n",
              "\n",
              "  [theme=dark] .colab-df-quickchart {\n",
              "    background-color: #3B4455;\n",
              "    fill: #D2E3FC;\n",
              "  }\n",
              "\n",
              "  [theme=dark] .colab-df-quickchart:hover {\n",
              "    background-color: #434B5C;\n",
              "    box-shadow: 0px 1px 3px 1px rgba(0, 0, 0, 0.15);\n",
              "    filter: drop-shadow(0px 1px 2px rgba(0, 0, 0, 0.3));\n",
              "    fill: #FFFFFF;\n",
              "  }\n",
              "</style>\n",
              "\n",
              "  <script>\n",
              "    async function quickchart(key) {\n",
              "      const charts = await google.colab.kernel.invokeFunction(\n",
              "          'suggestCharts', [key], {});\n",
              "    }\n",
              "    (() => {\n",
              "      let quickchartButtonEl =\n",
              "        document.querySelector('#df-9db41c49-b65c-413a-83ee-1aa5fca8b47d button');\n",
              "      quickchartButtonEl.style.display =\n",
              "        google.colab.kernel.accessAllowed ? 'block' : 'none';\n",
              "    })();\n",
              "  </script>\n",
              "</div>\n",
              "    </div>\n",
              "  </div>\n"
            ]
          },
          "metadata": {},
          "execution_count": 238
        }
      ]
    },
    {
      "cell_type": "code",
      "source": [
        "df.shape"
      ],
      "metadata": {
        "id": "82NADgKibBLd",
        "colab": {
          "base_uri": "https://localhost:8080/"
        },
        "outputId": "679826d2-f195-4af8-b57d-e53a13353fa9"
      },
      "execution_count": 239,
      "outputs": [
        {
          "output_type": "execute_result",
          "data": {
            "text/plain": [
              "(409, 7)"
            ]
          },
          "metadata": {},
          "execution_count": 239
        }
      ]
    },
    {
      "cell_type": "code",
      "source": [
        "sum(df.duplicated())"
      ],
      "metadata": {
        "id": "K9EjvBxUbFtl",
        "colab": {
          "base_uri": "https://localhost:8080/"
        },
        "outputId": "b39d88b3-1acc-447b-cd48-1a3b7ec156ad"
      },
      "execution_count": 240,
      "outputs": [
        {
          "output_type": "execute_result",
          "data": {
            "text/plain": [
              "93"
            ]
          },
          "metadata": {},
          "execution_count": 240
        }
      ]
    },
    {
      "cell_type": "code",
      "source": [
        "df.drop_duplicates(inplace = True)\n",
        "df.shape"
      ],
      "metadata": {
        "id": "N70OlTNtbJe5",
        "colab": {
          "base_uri": "https://localhost:8080/"
        },
        "outputId": "81160500-e35b-4f22-f52c-13ae2cbb77ac"
      },
      "execution_count": 241,
      "outputs": [
        {
          "output_type": "execute_result",
          "data": {
            "text/plain": [
              "(316, 7)"
            ]
          },
          "metadata": {},
          "execution_count": 241
        }
      ]
    },
    {
      "cell_type": "code",
      "source": [
        "df.isna().sum()"
      ],
      "metadata": {
        "id": "GhivkXn4bLYe",
        "colab": {
          "base_uri": "https://localhost:8080/"
        },
        "outputId": "aae35687-0b09-45cf-cf05-c16aa182d1de"
      },
      "execution_count": 242,
      "outputs": [
        {
          "output_type": "execute_result",
          "data": {
            "text/plain": [
              "Food Product       0\n",
              "Main Ingredient    1\n",
              "Sweetener          0\n",
              "Fat/Oil            1\n",
              "Seasoning          0\n",
              "Allergens          0\n",
              "Prediction         1\n",
              "dtype: int64"
            ]
          },
          "metadata": {},
          "execution_count": 242
        }
      ]
    },
    {
      "cell_type": "code",
      "source": [
        "df.dropna(inplace = True)\n",
        "df.shape"
      ],
      "metadata": {
        "id": "DiNI1aYtbNDN",
        "colab": {
          "base_uri": "https://localhost:8080/"
        },
        "outputId": "ff45b8cd-1ee8-4dbf-94e6-8728bc476538"
      },
      "execution_count": 243,
      "outputs": [
        {
          "output_type": "execute_result",
          "data": {
            "text/plain": [
              "(313, 7)"
            ]
          },
          "metadata": {},
          "execution_count": 243
        }
      ]
    },
    {
      "cell_type": "code",
      "source": [
        "df.columns"
      ],
      "metadata": {
        "id": "ZWLHMF_FbPRK",
        "colab": {
          "base_uri": "https://localhost:8080/"
        },
        "outputId": "734657ac-e0fe-4548-c954-28ee6d058d61"
      },
      "execution_count": 244,
      "outputs": [
        {
          "output_type": "execute_result",
          "data": {
            "text/plain": [
              "Index(['Food Product', 'Main Ingredient', 'Sweetener', 'Fat/Oil', 'Seasoning',\n",
              "       'Allergens', 'Prediction'],\n",
              "      dtype='object')"
            ]
          },
          "metadata": {},
          "execution_count": 244
        }
      ]
    },
    {
      "cell_type": "code",
      "source": [
        "for item in list(df.columns):\n",
        "    print(item , \"   \" , df[item].nunique())"
      ],
      "metadata": {
        "id": "EsZnpzKubREC",
        "colab": {
          "base_uri": "https://localhost:8080/"
        },
        "outputId": "9dae96e6-64b5-402e-c3d2-d47f0cdbfc57"
      },
      "execution_count": 245,
      "outputs": [
        {
          "output_type": "stream",
          "name": "stdout",
          "text": [
            "Food Product     264\n",
            "Main Ingredient     103\n",
            "Sweetener     10\n",
            "Fat/Oil     36\n",
            "Seasoning     187\n",
            "Allergens     40\n",
            "Prediction     2\n"
          ]
        }
      ]
    },
    {
      "cell_type": "code",
      "source": [
        "mask = (df['Allergens'] == 'None') & (df['Prediction'] == 'Contains')\n",
        "rows_to_drop = df[mask].index\n",
        "df.drop(rows_to_drop, inplace=True)"
      ],
      "metadata": {
        "id": "R3XNGl_vbTdG"
      },
      "execution_count": 246,
      "outputs": []
    },
    {
      "cell_type": "code",
      "source": [
        "rows_to_drop"
      ],
      "metadata": {
        "id": "p3P9DZFsbVev",
        "colab": {
          "base_uri": "https://localhost:8080/"
        },
        "outputId": "fd93de29-cb87-46d8-afc6-aacd3c8a68ca"
      },
      "execution_count": 247,
      "outputs": [
        {
          "output_type": "execute_result",
          "data": {
            "text/plain": [
              "Int64Index([133, 134, 135, 257, 262], dtype='int64')"
            ]
          },
          "metadata": {},
          "execution_count": 247
        }
      ]
    },
    {
      "cell_type": "code",
      "source": [
        "df.shape"
      ],
      "metadata": {
        "id": "3rv1NZ7ubYg2",
        "colab": {
          "base_uri": "https://localhost:8080/"
        },
        "outputId": "ae4128f8-39b3-4a12-e81c-0d51f0449abc"
      },
      "execution_count": 248,
      "outputs": [
        {
          "output_type": "execute_result",
          "data": {
            "text/plain": [
              "(308, 7)"
            ]
          },
          "metadata": {},
          "execution_count": 248
        }
      ]
    },
    {
      "cell_type": "code",
      "source": [
        "df.reset_index(inplace=True)"
      ],
      "metadata": {
        "id": "i1YGU9MsbbL-"
      },
      "execution_count": 249,
      "outputs": []
    },
    {
      "cell_type": "markdown",
      "source": [
        "# Data Normalisation - combining all the features into single column"
      ],
      "metadata": {
        "id": "D9cXz1KGnxdn"
      }
    },
    {
      "cell_type": "code",
      "source": [
        "\n",
        "df['text']=' '+df['Main Ingredient']+' '+df['Sweetener']+' '+df['Fat/Oil']+' '+df['Seasoning']+' '+df['Allergens']"
      ],
      "metadata": {
        "id": "sc576mG4bdFB"
      },
      "execution_count": 250,
      "outputs": []
    },
    {
      "cell_type": "code",
      "source": [
        "df"
      ],
      "metadata": {
        "colab": {
          "base_uri": "https://localhost:8080/",
          "height": 579
        },
        "id": "z3nAFLSBtl4e",
        "outputId": "170a2608-6d35-4783-e772-0e2a9476364a"
      },
      "execution_count": 251,
      "outputs": [
        {
          "output_type": "execute_result",
          "data": {
            "text/plain": [
              "     index         Food Product Main Ingredient Sweetener        Fat/Oil  \\\n",
              "0        0       Almond Cookies         Almonds     Sugar         Butter   \n",
              "1        2  Chicken Noodle Soup   Chicken broth      None           None   \n",
              "2        4       Cheddar Cheese          Cheese      None           None   \n",
              "3        5       Ranch Dressing      Buttermilk     Sugar  Vegetable oil   \n",
              "4        6      Caramel Popcorn         Popcorn     Sugar         Butter   \n",
              "..     ...                  ...             ...       ...            ...   \n",
              "303    399           Bean Salad            Bean      None      Olive oil   \n",
              "304    400           Corn Salad            Corn      None      Olive oil   \n",
              "305    401        Carrots Salad         Carrots      None      Olive oil   \n",
              "306    402        Peanuts Salad         Peanuts      None      Olive oil   \n",
              "307    403           Bean Salad            Bean      None      Olive oil   \n",
              "\n",
              "         Seasoning               Allergens        Prediction  \\\n",
              "0            Flour   Almonds, Wheat, Dairy          Contains   \n",
              "1             Salt  Chicken, Wheat, Celery          Contains   \n",
              "2             Salt                   Dairy          Contains   \n",
              "3    Garlic, herbs                   Dairy          Contains   \n",
              "4             Salt                   Dairy          Contains   \n",
              "..             ...                     ...               ...   \n",
              "303         spices                    None  Does not contain   \n",
              "304         spices                    None  Does not contain   \n",
              "305         spices                    None  Does not contain   \n",
              "306         spices                    None  Does not contain   \n",
              "307         spices                    None  Does not contain   \n",
              "\n",
              "                                                  text  \n",
              "0     Almonds Sugar Butter Flour Almonds, Wheat, Dairy  \n",
              "1     Chicken broth None None Salt Chicken, Wheat, ...  \n",
              "2                          Cheese None None Salt Dairy  \n",
              "3     Buttermilk Sugar Vegetable oil Garlic, herbs ...  \n",
              "4                      Popcorn Sugar Butter Salt Dairy  \n",
              "..                                                 ...  \n",
              "303                    Bean None Olive oil spices None  \n",
              "304                    Corn None Olive oil spices None  \n",
              "305                 Carrots None Olive oil spices None  \n",
              "306                 Peanuts None Olive oil spices None  \n",
              "307                    Bean None Olive oil spices None  \n",
              "\n",
              "[308 rows x 9 columns]"
            ],
            "text/html": [
              "\n",
              "  <div id=\"df-4ad201a5-2680-4a14-be3e-d0eddb749518\" class=\"colab-df-container\">\n",
              "    <div>\n",
              "<style scoped>\n",
              "    .dataframe tbody tr th:only-of-type {\n",
              "        vertical-align: middle;\n",
              "    }\n",
              "\n",
              "    .dataframe tbody tr th {\n",
              "        vertical-align: top;\n",
              "    }\n",
              "\n",
              "    .dataframe thead th {\n",
              "        text-align: right;\n",
              "    }\n",
              "</style>\n",
              "<table border=\"1\" class=\"dataframe\">\n",
              "  <thead>\n",
              "    <tr style=\"text-align: right;\">\n",
              "      <th></th>\n",
              "      <th>index</th>\n",
              "      <th>Food Product</th>\n",
              "      <th>Main Ingredient</th>\n",
              "      <th>Sweetener</th>\n",
              "      <th>Fat/Oil</th>\n",
              "      <th>Seasoning</th>\n",
              "      <th>Allergens</th>\n",
              "      <th>Prediction</th>\n",
              "      <th>text</th>\n",
              "    </tr>\n",
              "  </thead>\n",
              "  <tbody>\n",
              "    <tr>\n",
              "      <th>0</th>\n",
              "      <td>0</td>\n",
              "      <td>Almond Cookies</td>\n",
              "      <td>Almonds</td>\n",
              "      <td>Sugar</td>\n",
              "      <td>Butter</td>\n",
              "      <td>Flour</td>\n",
              "      <td>Almonds, Wheat, Dairy</td>\n",
              "      <td>Contains</td>\n",
              "      <td>Almonds Sugar Butter Flour Almonds, Wheat, Dairy</td>\n",
              "    </tr>\n",
              "    <tr>\n",
              "      <th>1</th>\n",
              "      <td>2</td>\n",
              "      <td>Chicken Noodle Soup</td>\n",
              "      <td>Chicken broth</td>\n",
              "      <td>None</td>\n",
              "      <td>None</td>\n",
              "      <td>Salt</td>\n",
              "      <td>Chicken, Wheat, Celery</td>\n",
              "      <td>Contains</td>\n",
              "      <td>Chicken broth None None Salt Chicken, Wheat, ...</td>\n",
              "    </tr>\n",
              "    <tr>\n",
              "      <th>2</th>\n",
              "      <td>4</td>\n",
              "      <td>Cheddar Cheese</td>\n",
              "      <td>Cheese</td>\n",
              "      <td>None</td>\n",
              "      <td>None</td>\n",
              "      <td>Salt</td>\n",
              "      <td>Dairy</td>\n",
              "      <td>Contains</td>\n",
              "      <td>Cheese None None Salt Dairy</td>\n",
              "    </tr>\n",
              "    <tr>\n",
              "      <th>3</th>\n",
              "      <td>5</td>\n",
              "      <td>Ranch Dressing</td>\n",
              "      <td>Buttermilk</td>\n",
              "      <td>Sugar</td>\n",
              "      <td>Vegetable oil</td>\n",
              "      <td>Garlic, herbs</td>\n",
              "      <td>Dairy</td>\n",
              "      <td>Contains</td>\n",
              "      <td>Buttermilk Sugar Vegetable oil Garlic, herbs ...</td>\n",
              "    </tr>\n",
              "    <tr>\n",
              "      <th>4</th>\n",
              "      <td>6</td>\n",
              "      <td>Caramel Popcorn</td>\n",
              "      <td>Popcorn</td>\n",
              "      <td>Sugar</td>\n",
              "      <td>Butter</td>\n",
              "      <td>Salt</td>\n",
              "      <td>Dairy</td>\n",
              "      <td>Contains</td>\n",
              "      <td>Popcorn Sugar Butter Salt Dairy</td>\n",
              "    </tr>\n",
              "    <tr>\n",
              "      <th>...</th>\n",
              "      <td>...</td>\n",
              "      <td>...</td>\n",
              "      <td>...</td>\n",
              "      <td>...</td>\n",
              "      <td>...</td>\n",
              "      <td>...</td>\n",
              "      <td>...</td>\n",
              "      <td>...</td>\n",
              "      <td>...</td>\n",
              "    </tr>\n",
              "    <tr>\n",
              "      <th>303</th>\n",
              "      <td>399</td>\n",
              "      <td>Bean Salad</td>\n",
              "      <td>Bean</td>\n",
              "      <td>None</td>\n",
              "      <td>Olive oil</td>\n",
              "      <td>spices</td>\n",
              "      <td>None</td>\n",
              "      <td>Does not contain</td>\n",
              "      <td>Bean None Olive oil spices None</td>\n",
              "    </tr>\n",
              "    <tr>\n",
              "      <th>304</th>\n",
              "      <td>400</td>\n",
              "      <td>Corn Salad</td>\n",
              "      <td>Corn</td>\n",
              "      <td>None</td>\n",
              "      <td>Olive oil</td>\n",
              "      <td>spices</td>\n",
              "      <td>None</td>\n",
              "      <td>Does not contain</td>\n",
              "      <td>Corn None Olive oil spices None</td>\n",
              "    </tr>\n",
              "    <tr>\n",
              "      <th>305</th>\n",
              "      <td>401</td>\n",
              "      <td>Carrots Salad</td>\n",
              "      <td>Carrots</td>\n",
              "      <td>None</td>\n",
              "      <td>Olive oil</td>\n",
              "      <td>spices</td>\n",
              "      <td>None</td>\n",
              "      <td>Does not contain</td>\n",
              "      <td>Carrots None Olive oil spices None</td>\n",
              "    </tr>\n",
              "    <tr>\n",
              "      <th>306</th>\n",
              "      <td>402</td>\n",
              "      <td>Peanuts Salad</td>\n",
              "      <td>Peanuts</td>\n",
              "      <td>None</td>\n",
              "      <td>Olive oil</td>\n",
              "      <td>spices</td>\n",
              "      <td>None</td>\n",
              "      <td>Does not contain</td>\n",
              "      <td>Peanuts None Olive oil spices None</td>\n",
              "    </tr>\n",
              "    <tr>\n",
              "      <th>307</th>\n",
              "      <td>403</td>\n",
              "      <td>Bean Salad</td>\n",
              "      <td>Bean</td>\n",
              "      <td>None</td>\n",
              "      <td>Olive oil</td>\n",
              "      <td>spices</td>\n",
              "      <td>None</td>\n",
              "      <td>Does not contain</td>\n",
              "      <td>Bean None Olive oil spices None</td>\n",
              "    </tr>\n",
              "  </tbody>\n",
              "</table>\n",
              "<p>308 rows × 9 columns</p>\n",
              "</div>\n",
              "    <div class=\"colab-df-buttons\">\n",
              "\n",
              "  <div class=\"colab-df-container\">\n",
              "    <button class=\"colab-df-convert\" onclick=\"convertToInteractive('df-4ad201a5-2680-4a14-be3e-d0eddb749518')\"\n",
              "            title=\"Convert this dataframe to an interactive table.\"\n",
              "            style=\"display:none;\">\n",
              "\n",
              "  <svg xmlns=\"http://www.w3.org/2000/svg\" height=\"24px\" viewBox=\"0 -960 960 960\">\n",
              "    <path d=\"M120-120v-720h720v720H120Zm60-500h600v-160H180v160Zm220 220h160v-160H400v160Zm0 220h160v-160H400v160ZM180-400h160v-160H180v160Zm440 0h160v-160H620v160ZM180-180h160v-160H180v160Zm440 0h160v-160H620v160Z\"/>\n",
              "  </svg>\n",
              "    </button>\n",
              "\n",
              "  <style>\n",
              "    .colab-df-container {\n",
              "      display:flex;\n",
              "      gap: 12px;\n",
              "    }\n",
              "\n",
              "    .colab-df-convert {\n",
              "      background-color: #E8F0FE;\n",
              "      border: none;\n",
              "      border-radius: 50%;\n",
              "      cursor: pointer;\n",
              "      display: none;\n",
              "      fill: #1967D2;\n",
              "      height: 32px;\n",
              "      padding: 0 0 0 0;\n",
              "      width: 32px;\n",
              "    }\n",
              "\n",
              "    .colab-df-convert:hover {\n",
              "      background-color: #E2EBFA;\n",
              "      box-shadow: 0px 1px 2px rgba(60, 64, 67, 0.3), 0px 1px 3px 1px rgba(60, 64, 67, 0.15);\n",
              "      fill: #174EA6;\n",
              "    }\n",
              "\n",
              "    .colab-df-buttons div {\n",
              "      margin-bottom: 4px;\n",
              "    }\n",
              "\n",
              "    [theme=dark] .colab-df-convert {\n",
              "      background-color: #3B4455;\n",
              "      fill: #D2E3FC;\n",
              "    }\n",
              "\n",
              "    [theme=dark] .colab-df-convert:hover {\n",
              "      background-color: #434B5C;\n",
              "      box-shadow: 0px 1px 3px 1px rgba(0, 0, 0, 0.15);\n",
              "      filter: drop-shadow(0px 1px 2px rgba(0, 0, 0, 0.3));\n",
              "      fill: #FFFFFF;\n",
              "    }\n",
              "  </style>\n",
              "\n",
              "    <script>\n",
              "      const buttonEl =\n",
              "        document.querySelector('#df-4ad201a5-2680-4a14-be3e-d0eddb749518 button.colab-df-convert');\n",
              "      buttonEl.style.display =\n",
              "        google.colab.kernel.accessAllowed ? 'block' : 'none';\n",
              "\n",
              "      async function convertToInteractive(key) {\n",
              "        const element = document.querySelector('#df-4ad201a5-2680-4a14-be3e-d0eddb749518');\n",
              "        const dataTable =\n",
              "          await google.colab.kernel.invokeFunction('convertToInteractive',\n",
              "                                                    [key], {});\n",
              "        if (!dataTable) return;\n",
              "\n",
              "        const docLinkHtml = 'Like what you see? Visit the ' +\n",
              "          '<a target=\"_blank\" href=https://colab.research.google.com/notebooks/data_table.ipynb>data table notebook</a>'\n",
              "          + ' to learn more about interactive tables.';\n",
              "        element.innerHTML = '';\n",
              "        dataTable['output_type'] = 'display_data';\n",
              "        await google.colab.output.renderOutput(dataTable, element);\n",
              "        const docLink = document.createElement('div');\n",
              "        docLink.innerHTML = docLinkHtml;\n",
              "        element.appendChild(docLink);\n",
              "      }\n",
              "    </script>\n",
              "  </div>\n",
              "\n",
              "\n",
              "<div id=\"df-423c7f22-4e43-45a3-b096-f7448ac160b3\">\n",
              "  <button class=\"colab-df-quickchart\" onclick=\"quickchart('df-423c7f22-4e43-45a3-b096-f7448ac160b3')\"\n",
              "            title=\"Suggest charts.\"\n",
              "            style=\"display:none;\">\n",
              "\n",
              "<svg xmlns=\"http://www.w3.org/2000/svg\" height=\"24px\"viewBox=\"0 0 24 24\"\n",
              "     width=\"24px\">\n",
              "    <g>\n",
              "        <path d=\"M19 3H5c-1.1 0-2 .9-2 2v14c0 1.1.9 2 2 2h14c1.1 0 2-.9 2-2V5c0-1.1-.9-2-2-2zM9 17H7v-7h2v7zm4 0h-2V7h2v10zm4 0h-2v-4h2v4z\"/>\n",
              "    </g>\n",
              "</svg>\n",
              "  </button>\n",
              "\n",
              "<style>\n",
              "  .colab-df-quickchart {\n",
              "    background-color: #E8F0FE;\n",
              "    border: none;\n",
              "    border-radius: 50%;\n",
              "    cursor: pointer;\n",
              "    display: none;\n",
              "    fill: #1967D2;\n",
              "    height: 32px;\n",
              "    padding: 0 0 0 0;\n",
              "    width: 32px;\n",
              "  }\n",
              "\n",
              "  .colab-df-quickchart:hover {\n",
              "    background-color: #E2EBFA;\n",
              "    box-shadow: 0px 1px 2px rgba(60, 64, 67, 0.3), 0px 1px 3px 1px rgba(60, 64, 67, 0.15);\n",
              "    fill: #174EA6;\n",
              "  }\n",
              "\n",
              "  [theme=dark] .colab-df-quickchart {\n",
              "    background-color: #3B4455;\n",
              "    fill: #D2E3FC;\n",
              "  }\n",
              "\n",
              "  [theme=dark] .colab-df-quickchart:hover {\n",
              "    background-color: #434B5C;\n",
              "    box-shadow: 0px 1px 3px 1px rgba(0, 0, 0, 0.15);\n",
              "    filter: drop-shadow(0px 1px 2px rgba(0, 0, 0, 0.3));\n",
              "    fill: #FFFFFF;\n",
              "  }\n",
              "</style>\n",
              "\n",
              "  <script>\n",
              "    async function quickchart(key) {\n",
              "      const charts = await google.colab.kernel.invokeFunction(\n",
              "          'suggestCharts', [key], {});\n",
              "    }\n",
              "    (() => {\n",
              "      let quickchartButtonEl =\n",
              "        document.querySelector('#df-423c7f22-4e43-45a3-b096-f7448ac160b3 button');\n",
              "      quickchartButtonEl.style.display =\n",
              "        google.colab.kernel.accessAllowed ? 'block' : 'none';\n",
              "    })();\n",
              "  </script>\n",
              "</div>\n",
              "    </div>\n",
              "  </div>\n"
            ]
          },
          "metadata": {},
          "execution_count": 251
        }
      ]
    },
    {
      "cell_type": "code",
      "source": [
        "df.replace('Vegetable oil', 'VegetableOil', regex=True, inplace=True)\n",
        "df.replace('Olive oil', 'OliveOil', regex=True, inplace=True)"
      ],
      "metadata": {
        "id": "RbOhvs6TC82w"
      },
      "execution_count": 252,
      "outputs": []
    },
    {
      "cell_type": "markdown",
      "source": [
        "# Data Preprocessing - removal of puntuation, stop words, case conversion and stemming\n"
      ],
      "metadata": {
        "id": "tuPBnoFnoDUY"
      }
    },
    {
      "cell_type": "code",
      "source": [
        "import nltk\n",
        "from nltk.tokenize import RegexpTokenizer\n",
        "from nltk.stem import WordNetLemmatizer,PorterStemmer\n",
        "from nltk.corpus import stopwords\n",
        "import re\n",
        "lemmatizer = WordNetLemmatizer()\n",
        "stemmer = PorterStemmer()"
      ],
      "metadata": {
        "id": "hGELRuJl2Tmq"
      },
      "execution_count": 253,
      "outputs": []
    },
    {
      "cell_type": "code",
      "source": [
        "import nltk\n",
        "nltk.download('stopwords')\n",
        "\n",
        "import nltk\n",
        "nltk.download('wordnet')"
      ],
      "metadata": {
        "id": "ZvE8Q1sE2b_S",
        "colab": {
          "base_uri": "https://localhost:8080/"
        },
        "outputId": "ee976d84-56a0-4a21-dfda-df04908143f6"
      },
      "execution_count": 254,
      "outputs": [
        {
          "output_type": "stream",
          "name": "stderr",
          "text": [
            "[nltk_data] Downloading package stopwords to /root/nltk_data...\n",
            "[nltk_data]   Package stopwords is already up-to-date!\n",
            "[nltk_data] Downloading package wordnet to /root/nltk_data...\n",
            "[nltk_data]   Package wordnet is already up-to-date!\n"
          ]
        },
        {
          "output_type": "execute_result",
          "data": {
            "text/plain": [
              "True"
            ]
          },
          "metadata": {},
          "execution_count": 254
        }
      ]
    },
    {
      "cell_type": "code",
      "source": [
        "\n",
        "for index, i in df['text'].iteritems():\n",
        "  print(i)"
      ],
      "metadata": {
        "id": "FrvZYG3y9hcM",
        "colab": {
          "base_uri": "https://localhost:8080/"
        },
        "outputId": "815a5758-01f1-4459-8610-0ab18a2593fd"
      },
      "execution_count": 255,
      "outputs": [
        {
          "output_type": "stream",
          "name": "stdout",
          "text": [
            " Almonds Sugar Butter Flour Almonds, Wheat, Dairy\n",
            " Chicken broth None None Salt Chicken, Wheat, Celery\n",
            " Cheese None None Salt Dairy\n",
            " Buttermilk Sugar VegetableOil Garlic, herbs Dairy\n",
            " Popcorn Sugar Butter Salt Dairy\n",
            " Romaine lettuce None OliveOil Parmesan cheese Dairy\n",
            " Grilled chicken None Caesar dressing Lettuce, Parmesan cheese Dairy\n",
            " Strawberries Honey Yogurt (milk, cultures) None Dairy\n",
            " Cheese None None Tomato sauce Dairy\n",
            " Cheese None None Tomato sauce, basil Dairy\n",
            " Potatoes None Butter Salt, Pepper Dairy\n",
            " Yogurt (milk, cultures) None None None Dairy\n",
            " Grilled chicken None Caesar dressing Lettuce, Parmesan cheese Dairy\n",
            " Tomatoes None OliveOil Mozzarella cheese, basil Dairy\n",
            " Mixed berries Sugar Yogurt (milk, cultures) None Dairy\n",
            " Romaine lettuce None OliveOil Caesar dressing Dairy\n",
            " Mixed berries Sugar Yogurt (milk, cultures) Granola Dairy\n",
            " Chicken None Butter Cream, Parmesan cheese Dairy\n",
            " Pesto sauce None None Mozzarella cheese, basil Dairy\n",
            " Beef None Sour cream Mushroom, onion Dairy\n",
            " Bananas Honey Yogurt (milk, cultures) None Dairy\n",
            " Watermelon None None Feta cheese, mint Dairy\n",
            " Chicken None Bread crumbs, Parmesan cheese Marinara sauce Dairy\n",
            " Mango Sugar Yogurt (milk, cultures) Cardamom Dairy\n",
            " Cucumbers None OliveOil Feta cheese, olives Dairy\n",
            " Butternut squash None Butter Vegetable broth Dairy\n",
            " Pasta None OliveOil Fresh tomatoes, mozzarella Dairy\n",
            " Lamb None None Tzatziki sauce, tomatoes, onions Dairy\n",
            " Chicken None OliveOil Spinach, feta cheese Dairy\n",
            " Chicken None Butter Cream, Parmesan cheese Dairy\n",
            " Tomatoes None OliveOil Mozzarella cheese, basil Dairy\n",
            " Mushrooms None Butter Arborio rice, Parmesan cheese Dairy\n",
            " Greek yogurt Honey None Granola, mixed berries Dairy\n",
            " Eggplant None OliveOil Marinara sauce, cheese Dairy\n",
            " Bananas Sugar Milk Vanilla pudding mix, cookies Dairy\n",
            " Pizza dough None OliveOil Mozzarella cheese, tomatoes, basil Dairy\n",
            " Chicken None Caesar dressing Romaine lettuce, Parmesan cheese Dairy\n",
            " Spinach None OliveOil Feta cheese, phyllo dough Dairy\n",
            " Mushrooms None Butter Vegetable broth Dairy\n",
            " Yogurt (milk, cultures) Honey None None Dairy\n",
            " Spinach None Cream cheese, sour cream Parmesan cheese, garlic Dairy\n",
            " Chocolate Sugar Heavy cream Vanilla extract Dairy\n",
            " Portobello mushrooms None None Cheese, breadcrumbs Dairy\n",
            " Chicken None Yogurt Tandoori spices Dairy\n",
            " Beef None Sour cream Mushrooms, onions Dairy\n",
            " Strawberries Sugar Yogurt Milk Dairy\n",
            " Chicken None Butter Parmesan cheese, garlic Dairy\n",
            " Mushrooms None OliveOil Goat cheese, herbs Dairy\n",
            " Pasta None OliveOil Mozzarella cheese, tomatoes, basil Dairy\n",
            " Pumpkin None Butter Nutmeg, cream Dairy\n",
            " Butternut squash None Butter Nutmeg, cream Dairy\n",
            " Tomatoes None OliveOil Mozzarella cheese, basil Dairy\n",
            " Chicken None Butter Lemon, capers Dairy\n",
            " Berries Honey Yogurt Granola Dairy\n",
            " Mushrooms None None Cheese, breadcrumbs Dairy\n",
            " Chicken Sugar Butter Tomato sauce, cream Dairy\n",
            " Spinach None Ghee Paneer, spices Dairy\n",
            " Lamb None Ghee Yogurt, Kashmiri red chili Dairy\n",
            " Paneer None Oil Tikka masala, spices Dairy\n",
            " Lentils None Ghee Cream, spices Dairy\n",
            " Cottage cheese None Ghee Creamy tomato sauce Dairy\n",
            " Chicken Sugar Ghee Tomato sauce, cream Dairy\n",
            " Milk solids Sugar Ghee Cardamom syrup Dairy\n",
            " Chicken None Ghee Creamy sauce, spices Dairy\n",
            " Chicken None Cream Spices Dairy\n",
            " Lentil dumplings None Yogurt Tamarind chutney, spices Dairy\n",
            " Chicken None Cream Spices Dairy\n",
            " Paneer None Ghee Peas, spices Dairy\n",
            " Paneer Sugar None Rose water, syrup Dairy\n",
            " Milk Sugar Ghee Cardamom, nuts Dairy\n",
            " Rice Sugar Ghee Cardamom, nuts Dairy\n",
            " Paneer Sugar Milk, Ghee Cardamom, nuts Dairy\n",
            " Chicken breast None OliveOil Parmesan cheese Dairy, Anchovies\n",
            " Chocolate Sugar Heavy cream Vanilla extract Dairy, Cocoa\n",
            " Bacon None Heavy cream Cheese, eggs Dairy, Eggs\n",
            " Chicken None Butter Lemon, capers Dairy, Fish\n",
            " Chicken None Ghee Tikka masala sauce Dairy, Ghee\n",
            " Sweet potatoes Brown sugar Butter Cinnamon, nutmeg Dairy, Nuts\n",
            " Brie cheese None None Herbs, nuts Dairy, Nuts\n",
            " Onions None Butter Beef broth, cheese, bread Dairy, Wheat\n",
            " Lamb/Chicken None None Tzatziki sauce, vegetables Dairy, Wheat\n",
            " Eggs None Butter Salt, pepper Eggs\n",
            " Eggs Mayonnaise None Celery, onion Eggs\n",
            " Eggs None Cheese Vegetables Eggs, Dairy\n",
            " Eggs Mayonnaise None Celery, mustard Eggs, Mustard\n",
            " Eggs None Sesame oil Soy sauce Eggs, Soybeans\n",
            " Fish fillets None VegetableOil Salt Fish\n",
            " Salmon fillet None OliveOil Lemon, herbs Fish\n",
            " Salmon None VegetableOil Teriyaki sauce Fish\n",
            " Salmon None OliveOil Lemon, herbs Fish\n",
            " Salmon None OliveOil Lemon, dill Fish\n",
            " Fish None Coconut oil Tamarind, spices Fish, Coconut\n",
            " Cod None Butter Lemon, herbs Fish, Dairy\n",
            " Tuna Mayonnaise None Salt, Pepper Fish, Eggs\n",
            " Tuna Mayonnaise None Celery, onion Fish, Eggs\n",
            " Fish (salmon, tuna) Rice vinegar Sesame oil Soy sauce Fish, Soybeans\n",
            " Salmon fillet Sugar Soy sauce Ginger, garlic Fish, Soybeans\n",
            " Sushi rice None Soy sauce Raw fish, vegetables Fish, Soybeans\n",
            " Salmon Honey Soy sauce Garlic, ginger Fish, Soybeans\n",
            " Sugar Cocoa butter Milk powder Vanilla extract Milk\n",
            " Milk Sugar Cream Vanilla extract Milk\n",
            " Yogurt (milk, cultures) Sugar None Vanilla extract Milk\n",
            " Yogurt (milk, cultures) Sugar None Pectin Milk, Strawberries\n",
            " Tomatoes None None Salt, Sugar None\n",
            " Apples None None None None\n",
            " Oranges Sugar None None None\n",
            " Cucumber None OliveOil Lemon juice None\n",
            " Quinoa None OliveOil Lemon juice, herbs None\n",
            " Mixed vegetables None VegetableOil Soy sauce None\n",
            " Ground beef None VegetableOil Salt, Pepper None\n",
            " Potatoes None VegetableOil Salt None\n",
            " Lemon juice Sugar Water None None\n",
            " Tomatoes None OliveOil Garlic, herbs None\n",
            " Ground beef None VegetableOil Taco seasoning None\n",
            " Lentils None OliveOil Vegetables None\n",
            " Chicken None VegetableOil Curry powder None\n",
            " Eggplant None OliveOil Tomatoes None\n",
            " Pasta None OliveOil Basil, garlic None\n",
            " Chicken None VegetableOil Soy sauce None\n",
            " Mixed vegetables None VegetableOil Seasonings None\n",
            " Mixed vegetables None OliveOil Seasonings None\n",
            " Spinach None OliveOil Balsamic vinegar None\n",
            " Chicken None VegetableOil Enchilada sauce None\n",
            " Vegetables None OliveOil Tomato broth None\n",
            " Tomatoes None None Onion, cilantro None\n",
            " Chicken None OliveOil Lemon juice, garlic None\n",
            " Pasta None Pancetta Garlic, herbs None\n",
            " Chicken None VegetableOil Teriyaki sauce None\n",
            " Chicken None OliveOil Spinach, garlic None\n",
            " Chicken None Coconut milk Curry paste None\n",
            " Apples Sugar None Cinnamon None\n",
            " Eggplant None OliveOil Tomatoes, zucchini None\n",
            " Avocado None OliveOil Salt, pepper None\n",
            " Beef None VegetableOil Soy sauce None\n",
            " Black beans None OliveOil Vegetables None\n",
            " Cucumber None OliveOil Lemon juice, dill None\n",
            " Mixed fruits Sugar None Lemon juice None\n",
            " Sausage None None Mozzarella cheese None\n",
            " Chicken None VegetableOil Fajita seasoning None\n",
            " Mango None None Red onion, lime None\n",
            " Lentils None Coconut milk Curry powder None\n",
            " Spinach Honey Avocado Almond milk None\n",
            " Bell peppers None OliveOil Ground meat, rice None\n",
            " Beef None VegetableOil Soy sauce None\n",
            " Cabbage None OliveOil Ground meat, rice None\n",
            " Apples Caramel None None None\n",
            " Sweet potatoes None VegetableOil Salt, paprika None\n",
            " Ground beef None None Chili powder None\n",
            " Chicken None Pesto sauce None None\n",
            " Ground beef None VegetableOil Taco seasoning None\n",
            " Chicken None OliveOil Shawarma spices None\n",
            " Mushrooms None None Garlic, herbs None\n",
            " Zucchini None OliveOil Garlic, herbs None\n",
            " Chicken Sugar VegetableOil Pineapple, bell peppers None\n",
            " Beef None OliveOil Seasonings None\n",
            " Tomatoes None OliveOil Garlic, basil None\n",
            " Quinoa None OliveOil Vegetables, spices None\n",
            " Mixed vegetables None OliveOil Salt, pepper None\n",
            " Vegetables None OliveOil Herbs, garlic None\n",
            " Beef None VegetableOil Taco seasoning None\n",
            " Quinoa None OliveOil Lemon juice, vegetables None\n",
            " Chicken wings None VegetableOil Buffalo sauce None\n",
            " Cabbage None OliveOil Ground meat, rice None\n",
            " Chicken None VegetableOil Orange sauce None\n",
            " Chicken Honey OliveOil Mustard, herbs None\n",
            " Lentils None OliveOil Lemon juice, vegetables None\n",
            " Chicken None OliveOil Cilantro, lime None\n",
            " Pizza dough None OliveOil Ratatouille vegetables None\n",
            " Chicken None Coconut milk Curry powder None\n",
            " Pasta None Pesto sauce Tomatoes, vegetables None\n",
            " Beef None VegetableOil Soy sauce None\n",
            " Tofu None Coconut milk Curry paste None\n",
            " Eggplant None OliveOil Ground meat, potatoes None\n",
            " Brussels sprouts None OliveOil Balsamic glaze None\n",
            " Chicken wings None OliveOil Seasonings None\n",
            " Mango Sugar Coconut milk None None\n",
            " Pasta None OliveOil Ratatouille vegetables None\n",
            " Chicken None VegetableOil Noodles, vegetables None\n",
            " Mango None None Lime juice, cilantro None\n",
            " Spinach None OliveOil Balsamic vinaigrette None\n",
            " Onions Sugar Butter None None\n",
            " Spinach None None Strawberries, vinaigrette None\n",
            " Vegetables None OliveOil Puff pastry, herbs None\n",
            " Carrots Honey Butter None None\n",
            " Cucumbers None OliveOil Vinegar, herbs None\n",
            " Potatoes None OliveOil Lemon juice, herbs None\n",
            " Tomatoes None None Herbs, breadcrumbs None\n",
            " Chicken None OliveOil Lemon pepper seasoning None\n",
            " Chicken None OliveOil Shawarma seasoning None\n",
            " Chicken None OliveOil Lemon, herbs None\n",
            " Chicken None OliveOil Lemon juice, herbs None\n",
            " Brussels sprouts None OliveOil Balsamic glaze None\n",
            " Beef None VegetableOil Burrito seasoning None\n",
            " Spinach None None Raspberries, vinaigrette None\n",
            " Chicken None VegetableOil Rice, vegetables None\n",
            " Mixed vegetables None Coconut milk Curry paste None\n",
            " Vegetables None OliveOil Herbs None\n",
            " Rice None Ghee Biryani masala, spices None\n",
            " Chickpeas Sugar Ghee Chole masala, spices None\n",
            " Rice None Oil Potato masala, spices None\n",
            " Potatoes None Oil Cauliflower, spices None\n",
            " Chicken None Ghee Basmati rice, spices None\n",
            " Potato None Oil Pav bun, chutney None\n",
            " Semolina Tamarind None Spiced water, chutney None\n",
            " Chicken None Oil Curry spices None\n",
            " Mixed vegetables None Ghee Basmati rice, spices None\n",
            " Chickpeas None Oil Masala spices None\n",
            " Fermented batter None Oil Mustard seeds, curry leaves None\n",
            " Mixed vegetables None Butter Pav bread, spices None\n",
            " Basmati rice None Ghee Meat/vegetables, spices None\n",
            " Rice None Oil Potato masala, chutney None\n",
            " Chickpeas None Ghee Kulcha bread, spices None\n",
            " Cauliflower None Oil Manchurian sauce None\n",
            " Mutton None Ghee Basmati rice, spices None\n",
            " Oats Sugar Milk Cinnamon Oats, Dairy\n",
            " Chicken None Peanut butter Soy sauce Peanuts\n",
            " Peanuts Sugar VegetableOil Salt Peanuts\n",
            " Chicken None Peanut oil Satay sauce, spices Peanuts\n",
            " Chicken None OliveOil Pesto sauce Pine nuts, Dairy\n",
            " Zucchini None OliveOil Pesto sauce Pine nuts, Dairy\n",
            " Rice Sugar Milk Cinnamon, raisins Rice, Dairy\n",
            " Shrimp None Butter Garlic, lemon Shellfish\n",
            " Shrimp None Butter Garlic, lemon Shellfish\n",
            " Shrimp None OliveOil Garlic Shellfish\n",
            " Shrimp None OliveOil Lemon juice, garlic Shellfish\n",
            " Prawns None Ghee Basmati rice, spices Shellfish\n",
            " Lobster None Butter Cream, brandy Shellfish, Dairy\n",
            " Shrimp None OliveOil Caesar dressing Shellfish, Dairy\n",
            " Shrimp None Butter Garlic, lemon Shellfish, Dairy\n",
            " Prawns None Coconut milk Curry spices Shellfish, Dairy\n",
            " Lobster None Mayonnaise Celery, lemon juice Shellfish, Eggs\n",
            " Shrimp None Bacon Seasonings Shellfish, Pork\n",
            " Shrimp None VegetableOil Soy sauce Shellfish, Soybeans\n",
            " Soybeans Sugar None Emulsifiers Soybeans\n",
            " Tofu None VegetableOil Soy sauce Soybeans\n",
            " Miso paste None None Tofu, seaweed Soybeans\n",
            " Tofu None VegetableOil Turmeric, spices Soybeans\n",
            " Chicken None Soy sauce Honey, ginger Soybeans\n",
            " Beef None Soy sauce Teriyaki sauce, vegetables Soybeans\n",
            " Sushi rice None Soy sauce Nori (seaweed), fish Soybeans, Fish\n",
            " Wheat flour None None Salt Wheat\n",
            " Zucchini Sugar VegetableOil Flour Wheat\n",
            " Chicken None Butter Noodles, vegetables Wheat\n",
            " Onions None VegetableOil Flour Wheat\n",
            " Chicken None Butter Vegetables, pastry Wheat\n",
            " Portobello mushrooms None None Burger bun, vegetables Wheat\n",
            " Potatoes None Ghee Wheat flour, spices Wheat\n",
            " Oats Sugar Butter Flour Wheat, Dairy\n",
            " Flour Sugar Butter Baking powder Wheat, Dairy\n",
            " Carrots Sugar VegetableOil Cinnamon Wheat, Dairy\n",
            " Blueberries Sugar Butter Flour Wheat, Dairy\n",
            " Flour Sugar Butter Chocolate chips Wheat, Dairy\n",
            " Arborio rice None Butter Mushroom Wheat, Dairy\n",
            " Flour Sugar Butter Cinnamon Wheat, Dairy\n",
            " Pineapple Sugar Butter Flour Wheat, Dairy\n",
            " Apples Sugar Butter Cinnamon Wheat, Dairy\n",
            " Bananas Sugar Butter Flour Wheat, Dairy\n",
            " Flour Sugar Butter Vanilla extract Wheat, Dairy\n",
            " Apples Sugar Butter Cinnamon Wheat, Dairy\n",
            " Pasta None Bacon Egg, Parmesan cheese Wheat, Dairy\n",
            " Flour Sugar Butter Blueberries Wheat, Dairy\n",
            " Flour Sugar Butter Lemon juice Wheat, Dairy\n",
            " Pumpkin Sugar Butter Cinnamon, nutmeg Wheat, Dairy\n",
            " Mixed berries Sugar Butter Flour Wheat, Dairy\n",
            " Bread None Butter Garlic Wheat, Dairy\n",
            " Mixed berries Sugar Butter Flour Wheat, Dairy\n",
            " Pasta None Cheese Tomato sauce Wheat, Dairy\n",
            " Lime juice Sugar Butter Graham cracker crust Wheat, Dairy\n",
            " Flour Sugar Butter Lemon zest, poppy seeds Wheat, Dairy\n",
            " Chicken None Butter Cheese Wheat, Dairy\n",
            " Flour Sugar Butter Maple syrup Wheat, Dairy\n",
            " Strawberries Sugar Whipped cream Shortcake Wheat, Dairy\n",
            " Mixed berries Sugar Butter Oats, cinnamon Wheat, Dairy\n",
            " Cream cheese Sugar Butter Graham cracker crust, raspberries Wheat, Dairy\n",
            " Oats Brown sugar Butter Raisins, cinnamon Wheat, Dairy\n",
            " Apples Sugar Butter Cinnamon, oats Wheat, Dairy\n",
            " Chicken None Enchilada sauce Cheese, tortillas Wheat, Dairy\n",
            " Romaine lettuce None Caesar dressing Parmesan cheese, croutons Wheat, Dairy\n",
            " Graham crackers Marshmallows Chocolate None Wheat, Dairy\n",
            " Ladyfingers Sugar Mascarpone cheese Coffee, cocoa Wheat, Dairy\n",
            " Dough Sugar Butter Cinnamon, icing Wheat, Dairy\n",
            " Chicken None Caesar dressing Romaine lettuce, croutons Wheat, Dairy\n",
            " Vegetables None OliveOil Tomato sauce, cheese Wheat, Dairy\n",
            " Pizza dough None None Chicken, Alfredo sauce Wheat, Dairy\n",
            " Pasta None Caesar dressing Romaine lettuce, Parmesan cheese Wheat, Dairy\n",
            " Apples Sugar Butter Cinnamon, oats Wheat, Dairy\n",
            " Apples Sugar Butter Cinnamon, pastry Wheat, Dairy\n",
            " Chicken None OliveOil Tomato sauce, cheese Wheat, Dairy\n",
            " Pumpkin Sugar Butter Pumpkin spice, pastry Wheat, Dairy\n",
            " Flour Sugar Butter Blueberries Wheat, Dairy\n",
            " Pizza dough None None Sausage, bell peppers Wheat, Dairy\n",
            " Beef None Butter Mushrooms, puff pastry Wheat, Dairy\n",
            " Pasta None None Tomato sauce, cheese Wheat, Dairy\n",
            " Flour Sugar Ghee Saffron syrup Wheat, Dairy\n",
            " Flour None Butter None Wheat, Dairy\n",
            " Ladyfingers Sugar Mascarpone cheese, coffee liqueur Cocoa powder Wheat, Dairy, Alcohol\n",
            " Flour Sugar Butter Cocoa powder Wheat, Dairy, Cocoa\n",
            " Flour Sugar Butter Chocolate chips Wheat, Dairy, Cocoa\n",
            " Lemon juice Sugar Butter Flour, eggs Wheat, Dairy, Eggs\n",
            " Pecans Sugar Butter Corn syrup Wheat, Dairy, Nuts\n",
            " Zucchini Sugar Butter Cinnamon, nuts Wheat, Dairy, Nuts\n",
            " Bananas Sugar Butter Cinnamon, nuts Wheat, Dairy, Nuts\n",
            " Pizza dough None None Pineapple, ham Wheat, Pork, Dairy\n",
            " Bean None OliveOil spices None\n",
            " Corn None OliveOil spices None\n",
            " Carrots None OliveOil spices None\n",
            " Peanuts None OliveOil spices None\n",
            " Bean None OliveOil spices None\n"
          ]
        },
        {
          "output_type": "stream",
          "name": "stderr",
          "text": [
            "<ipython-input-255-3aad7cacc9d3>:1: FutureWarning: iteritems is deprecated and will be removed in a future version. Use .items instead.\n",
            "  for index, i in df['text'].iteritems():\n"
          ]
        }
      ]
    },
    {
      "cell_type": "code",
      "source": [
        "for index, i in df['text'].iteritems():\n",
        "  print(str(i))\n",
        "  sentence = i.lower()\n",
        "  sentence=sentence.replace('{html}',\"\")\n",
        "  cleanr = re.compile('<.*?>:')\n",
        "  cleantext = re.sub(cleanr, '', sentence)\n",
        "  rem_url=re.sub(r'http\\S+', '',cleantext)\n",
        "  rem_num = re.sub('[0-9]+', '', rem_url)\n",
        "  tokenizer = RegexpTokenizer(r'\\w+')\n",
        "  tokens = tokenizer.tokenize(rem_num)\n",
        "  filtered_words = [w for w in tokens if len(w) > 2 if not w in stopwords.words('english') and \"amp\"]\n",
        "  stem_words=[stemmer.stem(w) for w in filtered_words]\n",
        "  lemma_words=[lemmatizer.lemmatize(w) for w in stem_words]\n",
        "  print(\" \".join(filtered_words))\n",
        "  df['text'].iloc[index] = \" \".join(filtered_words)\n"
      ],
      "metadata": {
        "id": "MynBTegY9fUS",
        "colab": {
          "base_uri": "https://localhost:8080/"
        },
        "outputId": "f3565707-5d32-4c1f-ac98-4ed5e049a667"
      },
      "execution_count": 256,
      "outputs": [
        {
          "output_type": "stream",
          "name": "stderr",
          "text": [
            "<ipython-input-256-5971ba85a9b4>:1: FutureWarning: iteritems is deprecated and will be removed in a future version. Use .items instead.\n",
            "  for index, i in df['text'].iteritems():\n",
            "<ipython-input-256-5971ba85a9b4>:15: SettingWithCopyWarning: \n",
            "A value is trying to be set on a copy of a slice from a DataFrame\n",
            "\n",
            "See the caveats in the documentation: https://pandas.pydata.org/pandas-docs/stable/user_guide/indexing.html#returning-a-view-versus-a-copy\n",
            "  df['text'].iloc[index] = \" \".join(filtered_words)\n"
          ]
        },
        {
          "output_type": "stream",
          "name": "stdout",
          "text": [
            " Almonds Sugar Butter Flour Almonds, Wheat, Dairy\n",
            "almonds sugar butter flour almonds wheat dairy\n",
            " Chicken broth None None Salt Chicken, Wheat, Celery\n",
            "chicken broth none none salt chicken wheat celery\n",
            " Cheese None None Salt Dairy\n",
            "cheese none none salt dairy\n",
            " Buttermilk Sugar VegetableOil Garlic, herbs Dairy\n",
            "buttermilk sugar vegetableoil garlic herbs dairy\n",
            " Popcorn Sugar Butter Salt Dairy\n",
            "popcorn sugar butter salt dairy\n",
            " Romaine lettuce None OliveOil Parmesan cheese Dairy\n",
            "romaine lettuce none oliveoil parmesan cheese dairy\n",
            " Grilled chicken None Caesar dressing Lettuce, Parmesan cheese Dairy\n",
            "grilled chicken none caesar dressing lettuce parmesan cheese dairy\n",
            " Strawberries Honey Yogurt (milk, cultures) None Dairy\n",
            "strawberries honey yogurt milk cultures none dairy\n",
            " Cheese None None Tomato sauce Dairy\n",
            "cheese none none tomato sauce dairy\n",
            " Cheese None None Tomato sauce, basil Dairy\n",
            "cheese none none tomato sauce basil dairy\n",
            " Potatoes None Butter Salt, Pepper Dairy\n",
            "potatoes none butter salt pepper dairy\n",
            " Yogurt (milk, cultures) None None None Dairy\n",
            "yogurt milk cultures none none none dairy\n",
            " Grilled chicken None Caesar dressing Lettuce, Parmesan cheese Dairy\n",
            "grilled chicken none caesar dressing lettuce parmesan cheese dairy\n",
            " Tomatoes None OliveOil Mozzarella cheese, basil Dairy\n",
            "tomatoes none oliveoil mozzarella cheese basil dairy\n",
            " Mixed berries Sugar Yogurt (milk, cultures) None Dairy\n",
            "mixed berries sugar yogurt milk cultures none dairy\n",
            " Romaine lettuce None OliveOil Caesar dressing Dairy\n",
            "romaine lettuce none oliveoil caesar dressing dairy\n",
            " Mixed berries Sugar Yogurt (milk, cultures) Granola Dairy\n",
            "mixed berries sugar yogurt milk cultures granola dairy\n",
            " Chicken None Butter Cream, Parmesan cheese Dairy\n",
            "chicken none butter cream parmesan cheese dairy\n",
            " Pesto sauce None None Mozzarella cheese, basil Dairy\n",
            "pesto sauce none none mozzarella cheese basil dairy\n",
            " Beef None Sour cream Mushroom, onion Dairy\n",
            "beef none sour cream mushroom onion dairy\n",
            " Bananas Honey Yogurt (milk, cultures) None Dairy\n",
            "bananas honey yogurt milk cultures none dairy\n",
            " Watermelon None None Feta cheese, mint Dairy\n",
            "watermelon none none feta cheese mint dairy\n",
            " Chicken None Bread crumbs, Parmesan cheese Marinara sauce Dairy\n",
            "chicken none bread crumbs parmesan cheese marinara sauce dairy\n",
            " Mango Sugar Yogurt (milk, cultures) Cardamom Dairy\n",
            "mango sugar yogurt milk cultures cardamom dairy\n",
            " Cucumbers None OliveOil Feta cheese, olives Dairy\n",
            "cucumbers none oliveoil feta cheese olives dairy\n",
            " Butternut squash None Butter Vegetable broth Dairy\n",
            "butternut squash none butter vegetable broth dairy\n",
            " Pasta None OliveOil Fresh tomatoes, mozzarella Dairy\n",
            "pasta none oliveoil fresh tomatoes mozzarella dairy\n",
            " Lamb None None Tzatziki sauce, tomatoes, onions Dairy\n",
            "lamb none none tzatziki sauce tomatoes onions dairy\n",
            " Chicken None OliveOil Spinach, feta cheese Dairy\n",
            "chicken none oliveoil spinach feta cheese dairy\n",
            " Chicken None Butter Cream, Parmesan cheese Dairy\n",
            "chicken none butter cream parmesan cheese dairy\n",
            " Tomatoes None OliveOil Mozzarella cheese, basil Dairy\n",
            "tomatoes none oliveoil mozzarella cheese basil dairy\n",
            " Mushrooms None Butter Arborio rice, Parmesan cheese Dairy\n",
            "mushrooms none butter arborio rice parmesan cheese dairy\n",
            " Greek yogurt Honey None Granola, mixed berries Dairy\n",
            "greek yogurt honey none granola mixed berries dairy\n",
            " Eggplant None OliveOil Marinara sauce, cheese Dairy\n",
            "eggplant none oliveoil marinara sauce cheese dairy\n",
            " Bananas Sugar Milk Vanilla pudding mix, cookies Dairy\n",
            "bananas sugar milk vanilla pudding mix cookies dairy\n",
            " Pizza dough None OliveOil Mozzarella cheese, tomatoes, basil Dairy\n",
            "pizza dough none oliveoil mozzarella cheese tomatoes basil dairy\n",
            " Chicken None Caesar dressing Romaine lettuce, Parmesan cheese Dairy\n",
            "chicken none caesar dressing romaine lettuce parmesan cheese dairy\n",
            " Spinach None OliveOil Feta cheese, phyllo dough Dairy\n",
            "spinach none oliveoil feta cheese phyllo dough dairy\n",
            " Mushrooms None Butter Vegetable broth Dairy\n",
            "mushrooms none butter vegetable broth dairy\n",
            " Yogurt (milk, cultures) Honey None None Dairy\n",
            "yogurt milk cultures honey none none dairy\n",
            " Spinach None Cream cheese, sour cream Parmesan cheese, garlic Dairy\n",
            "spinach none cream cheese sour cream parmesan cheese garlic dairy\n",
            " Chocolate Sugar Heavy cream Vanilla extract Dairy\n",
            "chocolate sugar heavy cream vanilla extract dairy\n",
            " Portobello mushrooms None None Cheese, breadcrumbs Dairy\n",
            "portobello mushrooms none none cheese breadcrumbs dairy\n",
            " Chicken None Yogurt Tandoori spices Dairy\n",
            "chicken none yogurt tandoori spices dairy\n",
            " Beef None Sour cream Mushrooms, onions Dairy\n",
            "beef none sour cream mushrooms onions dairy\n",
            " Strawberries Sugar Yogurt Milk Dairy\n",
            "strawberries sugar yogurt milk dairy\n",
            " Chicken None Butter Parmesan cheese, garlic Dairy\n",
            "chicken none butter parmesan cheese garlic dairy\n",
            " Mushrooms None OliveOil Goat cheese, herbs Dairy\n",
            "mushrooms none oliveoil goat cheese herbs dairy\n",
            " Pasta None OliveOil Mozzarella cheese, tomatoes, basil Dairy\n",
            "pasta none oliveoil mozzarella cheese tomatoes basil dairy\n",
            " Pumpkin None Butter Nutmeg, cream Dairy\n",
            "pumpkin none butter nutmeg cream dairy\n",
            " Butternut squash None Butter Nutmeg, cream Dairy\n",
            "butternut squash none butter nutmeg cream dairy\n",
            " Tomatoes None OliveOil Mozzarella cheese, basil Dairy\n",
            "tomatoes none oliveoil mozzarella cheese basil dairy\n",
            " Chicken None Butter Lemon, capers Dairy\n",
            "chicken none butter lemon capers dairy\n",
            " Berries Honey Yogurt Granola Dairy\n",
            "berries honey yogurt granola dairy\n",
            " Mushrooms None None Cheese, breadcrumbs Dairy\n",
            "mushrooms none none cheese breadcrumbs dairy\n",
            " Chicken Sugar Butter Tomato sauce, cream Dairy\n",
            "chicken sugar butter tomato sauce cream dairy\n",
            " Spinach None Ghee Paneer, spices Dairy\n",
            "spinach none ghee paneer spices dairy\n",
            " Lamb None Ghee Yogurt, Kashmiri red chili Dairy\n",
            "lamb none ghee yogurt kashmiri red chili dairy\n",
            " Paneer None Oil Tikka masala, spices Dairy\n",
            "paneer none oil tikka masala spices dairy\n",
            " Lentils None Ghee Cream, spices Dairy\n",
            "lentils none ghee cream spices dairy\n",
            " Cottage cheese None Ghee Creamy tomato sauce Dairy\n",
            "cottage cheese none ghee creamy tomato sauce dairy\n",
            " Chicken Sugar Ghee Tomato sauce, cream Dairy\n",
            "chicken sugar ghee tomato sauce cream dairy\n",
            " Milk solids Sugar Ghee Cardamom syrup Dairy\n",
            "milk solids sugar ghee cardamom syrup dairy\n",
            " Chicken None Ghee Creamy sauce, spices Dairy\n",
            "chicken none ghee creamy sauce spices dairy\n",
            " Chicken None Cream Spices Dairy\n",
            "chicken none cream spices dairy\n",
            " Lentil dumplings None Yogurt Tamarind chutney, spices Dairy\n",
            "lentil dumplings none yogurt tamarind chutney spices dairy\n",
            " Chicken None Cream Spices Dairy\n",
            "chicken none cream spices dairy\n",
            " Paneer None Ghee Peas, spices Dairy\n",
            "paneer none ghee peas spices dairy\n",
            " Paneer Sugar None Rose water, syrup Dairy\n",
            "paneer sugar none rose water syrup dairy\n",
            " Milk Sugar Ghee Cardamom, nuts Dairy\n",
            "milk sugar ghee cardamom nuts dairy\n",
            " Rice Sugar Ghee Cardamom, nuts Dairy\n",
            "rice sugar ghee cardamom nuts dairy\n",
            " Paneer Sugar Milk, Ghee Cardamom, nuts Dairy\n",
            "paneer sugar milk ghee cardamom nuts dairy\n",
            " Chicken breast None OliveOil Parmesan cheese Dairy, Anchovies\n",
            "chicken breast none oliveoil parmesan cheese dairy anchovies\n",
            " Chocolate Sugar Heavy cream Vanilla extract Dairy, Cocoa\n",
            "chocolate sugar heavy cream vanilla extract dairy cocoa\n",
            " Bacon None Heavy cream Cheese, eggs Dairy, Eggs\n",
            "bacon none heavy cream cheese eggs dairy eggs\n",
            " Chicken None Butter Lemon, capers Dairy, Fish\n",
            "chicken none butter lemon capers dairy fish\n",
            " Chicken None Ghee Tikka masala sauce Dairy, Ghee\n",
            "chicken none ghee tikka masala sauce dairy ghee\n",
            " Sweet potatoes Brown sugar Butter Cinnamon, nutmeg Dairy, Nuts\n",
            "sweet potatoes brown sugar butter cinnamon nutmeg dairy nuts\n",
            " Brie cheese None None Herbs, nuts Dairy, Nuts\n",
            "brie cheese none none herbs nuts dairy nuts\n",
            " Onions None Butter Beef broth, cheese, bread Dairy, Wheat\n",
            "onions none butter beef broth cheese bread dairy wheat\n",
            " Lamb/Chicken None None Tzatziki sauce, vegetables Dairy, Wheat\n",
            "lamb chicken none none tzatziki sauce vegetables dairy wheat\n",
            " Eggs None Butter Salt, pepper Eggs\n",
            "eggs none butter salt pepper eggs\n",
            " Eggs Mayonnaise None Celery, onion Eggs\n",
            "eggs mayonnaise none celery onion eggs\n",
            " Eggs None Cheese Vegetables Eggs, Dairy\n",
            "eggs none cheese vegetables eggs dairy\n",
            " Eggs Mayonnaise None Celery, mustard Eggs, Mustard\n",
            "eggs mayonnaise none celery mustard eggs mustard\n",
            " Eggs None Sesame oil Soy sauce Eggs, Soybeans\n",
            "eggs none sesame oil soy sauce eggs soybeans\n",
            " Fish fillets None VegetableOil Salt Fish\n",
            "fish fillets none vegetableoil salt fish\n",
            " Salmon fillet None OliveOil Lemon, herbs Fish\n",
            "salmon fillet none oliveoil lemon herbs fish\n",
            " Salmon None VegetableOil Teriyaki sauce Fish\n",
            "salmon none vegetableoil teriyaki sauce fish\n",
            " Salmon None OliveOil Lemon, herbs Fish\n",
            "salmon none oliveoil lemon herbs fish\n",
            " Salmon None OliveOil Lemon, dill Fish\n",
            "salmon none oliveoil lemon dill fish\n",
            " Fish None Coconut oil Tamarind, spices Fish, Coconut\n",
            "fish none coconut oil tamarind spices fish coconut\n",
            " Cod None Butter Lemon, herbs Fish, Dairy\n",
            "cod none butter lemon herbs fish dairy\n",
            " Tuna Mayonnaise None Salt, Pepper Fish, Eggs\n",
            "tuna mayonnaise none salt pepper fish eggs\n",
            " Tuna Mayonnaise None Celery, onion Fish, Eggs\n",
            "tuna mayonnaise none celery onion fish eggs\n",
            " Fish (salmon, tuna) Rice vinegar Sesame oil Soy sauce Fish, Soybeans\n",
            "fish salmon tuna rice vinegar sesame oil soy sauce fish soybeans\n",
            " Salmon fillet Sugar Soy sauce Ginger, garlic Fish, Soybeans\n",
            "salmon fillet sugar soy sauce ginger garlic fish soybeans\n",
            " Sushi rice None Soy sauce Raw fish, vegetables Fish, Soybeans\n",
            "sushi rice none soy sauce raw fish vegetables fish soybeans\n",
            " Salmon Honey Soy sauce Garlic, ginger Fish, Soybeans\n",
            "salmon honey soy sauce garlic ginger fish soybeans\n",
            " Sugar Cocoa butter Milk powder Vanilla extract Milk\n",
            "sugar cocoa butter milk powder vanilla extract milk\n",
            " Milk Sugar Cream Vanilla extract Milk\n",
            "milk sugar cream vanilla extract milk\n",
            " Yogurt (milk, cultures) Sugar None Vanilla extract Milk\n",
            "yogurt milk cultures sugar none vanilla extract milk\n",
            " Yogurt (milk, cultures) Sugar None Pectin Milk, Strawberries\n",
            "yogurt milk cultures sugar none pectin milk strawberries\n",
            " Tomatoes None None Salt, Sugar None\n",
            "tomatoes none none salt sugar none\n",
            " Apples None None None None\n",
            "apples none none none none\n",
            " Oranges Sugar None None None\n",
            "oranges sugar none none none\n",
            " Cucumber None OliveOil Lemon juice None\n",
            "cucumber none oliveoil lemon juice none\n",
            " Quinoa None OliveOil Lemon juice, herbs None\n",
            "quinoa none oliveoil lemon juice herbs none\n",
            " Mixed vegetables None VegetableOil Soy sauce None\n",
            "mixed vegetables none vegetableoil soy sauce none\n",
            " Ground beef None VegetableOil Salt, Pepper None\n",
            "ground beef none vegetableoil salt pepper none\n",
            " Potatoes None VegetableOil Salt None\n",
            "potatoes none vegetableoil salt none\n",
            " Lemon juice Sugar Water None None\n",
            "lemon juice sugar water none none\n",
            " Tomatoes None OliveOil Garlic, herbs None\n",
            "tomatoes none oliveoil garlic herbs none\n",
            " Ground beef None VegetableOil Taco seasoning None\n",
            "ground beef none vegetableoil taco seasoning none\n",
            " Lentils None OliveOil Vegetables None\n",
            "lentils none oliveoil vegetables none\n",
            " Chicken None VegetableOil Curry powder None\n",
            "chicken none vegetableoil curry powder none\n",
            " Eggplant None OliveOil Tomatoes None\n",
            "eggplant none oliveoil tomatoes none\n",
            " Pasta None OliveOil Basil, garlic None\n",
            "pasta none oliveoil basil garlic none\n",
            " Chicken None VegetableOil Soy sauce None\n",
            "chicken none vegetableoil soy sauce none\n",
            " Mixed vegetables None VegetableOil Seasonings None\n",
            "mixed vegetables none vegetableoil seasonings none\n",
            " Mixed vegetables None OliveOil Seasonings None\n",
            "mixed vegetables none oliveoil seasonings none\n",
            " Spinach None OliveOil Balsamic vinegar None\n",
            "spinach none oliveoil balsamic vinegar none\n",
            " Chicken None VegetableOil Enchilada sauce None\n",
            "chicken none vegetableoil enchilada sauce none\n",
            " Vegetables None OliveOil Tomato broth None\n",
            "vegetables none oliveoil tomato broth none\n",
            " Tomatoes None None Onion, cilantro None\n",
            "tomatoes none none onion cilantro none\n",
            " Chicken None OliveOil Lemon juice, garlic None\n",
            "chicken none oliveoil lemon juice garlic none\n",
            " Pasta None Pancetta Garlic, herbs None\n",
            "pasta none pancetta garlic herbs none\n",
            " Chicken None VegetableOil Teriyaki sauce None\n",
            "chicken none vegetableoil teriyaki sauce none\n",
            " Chicken None OliveOil Spinach, garlic None\n",
            "chicken none oliveoil spinach garlic none\n",
            " Chicken None Coconut milk Curry paste None\n",
            "chicken none coconut milk curry paste none\n",
            " Apples Sugar None Cinnamon None\n",
            "apples sugar none cinnamon none\n",
            " Eggplant None OliveOil Tomatoes, zucchini None\n",
            "eggplant none oliveoil tomatoes zucchini none\n",
            " Avocado None OliveOil Salt, pepper None\n",
            "avocado none oliveoil salt pepper none\n",
            " Beef None VegetableOil Soy sauce None\n",
            "beef none vegetableoil soy sauce none\n",
            " Black beans None OliveOil Vegetables None\n",
            "black beans none oliveoil vegetables none\n",
            " Cucumber None OliveOil Lemon juice, dill None\n",
            "cucumber none oliveoil lemon juice dill none\n",
            " Mixed fruits Sugar None Lemon juice None\n",
            "mixed fruits sugar none lemon juice none\n",
            " Sausage None None Mozzarella cheese None\n",
            "sausage none none mozzarella cheese none\n",
            " Chicken None VegetableOil Fajita seasoning None\n",
            "chicken none vegetableoil fajita seasoning none\n",
            " Mango None None Red onion, lime None\n",
            "mango none none red onion lime none\n",
            " Lentils None Coconut milk Curry powder None\n",
            "lentils none coconut milk curry powder none\n",
            " Spinach Honey Avocado Almond milk None\n",
            "spinach honey avocado almond milk none\n",
            " Bell peppers None OliveOil Ground meat, rice None\n",
            "bell peppers none oliveoil ground meat rice none\n",
            " Beef None VegetableOil Soy sauce None\n",
            "beef none vegetableoil soy sauce none\n",
            " Cabbage None OliveOil Ground meat, rice None\n",
            "cabbage none oliveoil ground meat rice none\n",
            " Apples Caramel None None None\n",
            "apples caramel none none none\n",
            " Sweet potatoes None VegetableOil Salt, paprika None\n",
            "sweet potatoes none vegetableoil salt paprika none\n",
            " Ground beef None None Chili powder None\n",
            "ground beef none none chili powder none\n",
            " Chicken None Pesto sauce None None\n",
            "chicken none pesto sauce none none\n",
            " Ground beef None VegetableOil Taco seasoning None\n",
            "ground beef none vegetableoil taco seasoning none\n",
            " Chicken None OliveOil Shawarma spices None\n",
            "chicken none oliveoil shawarma spices none\n",
            " Mushrooms None None Garlic, herbs None\n",
            "mushrooms none none garlic herbs none\n",
            " Zucchini None OliveOil Garlic, herbs None\n",
            "zucchini none oliveoil garlic herbs none\n",
            " Chicken Sugar VegetableOil Pineapple, bell peppers None\n",
            "chicken sugar vegetableoil pineapple bell peppers none\n",
            " Beef None OliveOil Seasonings None\n",
            "beef none oliveoil seasonings none\n",
            " Tomatoes None OliveOil Garlic, basil None\n",
            "tomatoes none oliveoil garlic basil none\n",
            " Quinoa None OliveOil Vegetables, spices None\n",
            "quinoa none oliveoil vegetables spices none\n",
            " Mixed vegetables None OliveOil Salt, pepper None\n",
            "mixed vegetables none oliveoil salt pepper none\n",
            " Vegetables None OliveOil Herbs, garlic None\n",
            "vegetables none oliveoil herbs garlic none\n",
            " Beef None VegetableOil Taco seasoning None\n",
            "beef none vegetableoil taco seasoning none\n",
            " Quinoa None OliveOil Lemon juice, vegetables None\n",
            "quinoa none oliveoil lemon juice vegetables none\n",
            " Chicken wings None VegetableOil Buffalo sauce None\n",
            "chicken wings none vegetableoil buffalo sauce none\n",
            " Cabbage None OliveOil Ground meat, rice None\n",
            "cabbage none oliveoil ground meat rice none\n",
            " Chicken None VegetableOil Orange sauce None\n",
            "chicken none vegetableoil orange sauce none\n",
            " Chicken Honey OliveOil Mustard, herbs None\n",
            "chicken honey oliveoil mustard herbs none\n",
            " Lentils None OliveOil Lemon juice, vegetables None\n",
            "lentils none oliveoil lemon juice vegetables none\n",
            " Chicken None OliveOil Cilantro, lime None\n",
            "chicken none oliveoil cilantro lime none\n",
            " Pizza dough None OliveOil Ratatouille vegetables None\n",
            "pizza dough none oliveoil ratatouille vegetables none\n",
            " Chicken None Coconut milk Curry powder None\n",
            "chicken none coconut milk curry powder none\n",
            " Pasta None Pesto sauce Tomatoes, vegetables None\n",
            "pasta none pesto sauce tomatoes vegetables none\n",
            " Beef None VegetableOil Soy sauce None\n",
            "beef none vegetableoil soy sauce none\n",
            " Tofu None Coconut milk Curry paste None\n",
            "tofu none coconut milk curry paste none\n",
            " Eggplant None OliveOil Ground meat, potatoes None\n",
            "eggplant none oliveoil ground meat potatoes none\n",
            " Brussels sprouts None OliveOil Balsamic glaze None\n",
            "brussels sprouts none oliveoil balsamic glaze none\n",
            " Chicken wings None OliveOil Seasonings None\n",
            "chicken wings none oliveoil seasonings none\n",
            " Mango Sugar Coconut milk None None\n",
            "mango sugar coconut milk none none\n",
            " Pasta None OliveOil Ratatouille vegetables None\n",
            "pasta none oliveoil ratatouille vegetables none\n",
            " Chicken None VegetableOil Noodles, vegetables None\n",
            "chicken none vegetableoil noodles vegetables none\n",
            " Mango None None Lime juice, cilantro None\n",
            "mango none none lime juice cilantro none\n",
            " Spinach None OliveOil Balsamic vinaigrette None\n",
            "spinach none oliveoil balsamic vinaigrette none\n",
            " Onions Sugar Butter None None\n",
            "onions sugar butter none none\n",
            " Spinach None None Strawberries, vinaigrette None\n",
            "spinach none none strawberries vinaigrette none\n",
            " Vegetables None OliveOil Puff pastry, herbs None\n",
            "vegetables none oliveoil puff pastry herbs none\n",
            " Carrots Honey Butter None None\n",
            "carrots honey butter none none\n",
            " Cucumbers None OliveOil Vinegar, herbs None\n",
            "cucumbers none oliveoil vinegar herbs none\n",
            " Potatoes None OliveOil Lemon juice, herbs None\n",
            "potatoes none oliveoil lemon juice herbs none\n",
            " Tomatoes None None Herbs, breadcrumbs None\n",
            "tomatoes none none herbs breadcrumbs none\n",
            " Chicken None OliveOil Lemon pepper seasoning None\n",
            "chicken none oliveoil lemon pepper seasoning none\n",
            " Chicken None OliveOil Shawarma seasoning None\n",
            "chicken none oliveoil shawarma seasoning none\n",
            " Chicken None OliveOil Lemon, herbs None\n",
            "chicken none oliveoil lemon herbs none\n",
            " Chicken None OliveOil Lemon juice, herbs None\n",
            "chicken none oliveoil lemon juice herbs none\n",
            " Brussels sprouts None OliveOil Balsamic glaze None\n",
            "brussels sprouts none oliveoil balsamic glaze none\n",
            " Beef None VegetableOil Burrito seasoning None\n",
            "beef none vegetableoil burrito seasoning none\n",
            " Spinach None None Raspberries, vinaigrette None\n",
            "spinach none none raspberries vinaigrette none\n",
            " Chicken None VegetableOil Rice, vegetables None\n",
            "chicken none vegetableoil rice vegetables none\n",
            " Mixed vegetables None Coconut milk Curry paste None\n",
            "mixed vegetables none coconut milk curry paste none\n",
            " Vegetables None OliveOil Herbs None\n",
            "vegetables none oliveoil herbs none\n",
            " Rice None Ghee Biryani masala, spices None\n",
            "rice none ghee biryani masala spices none\n",
            " Chickpeas Sugar Ghee Chole masala, spices None\n",
            "chickpeas sugar ghee chole masala spices none\n",
            " Rice None Oil Potato masala, spices None\n",
            "rice none oil potato masala spices none\n",
            " Potatoes None Oil Cauliflower, spices None\n",
            "potatoes none oil cauliflower spices none\n",
            " Chicken None Ghee Basmati rice, spices None\n",
            "chicken none ghee basmati rice spices none\n",
            " Potato None Oil Pav bun, chutney None\n",
            "potato none oil pav bun chutney none\n",
            " Semolina Tamarind None Spiced water, chutney None\n",
            "semolina tamarind none spiced water chutney none\n",
            " Chicken None Oil Curry spices None\n",
            "chicken none oil curry spices none\n",
            " Mixed vegetables None Ghee Basmati rice, spices None\n",
            "mixed vegetables none ghee basmati rice spices none\n",
            " Chickpeas None Oil Masala spices None\n",
            "chickpeas none oil masala spices none\n",
            " Fermented batter None Oil Mustard seeds, curry leaves None\n",
            "fermented batter none oil mustard seeds curry leaves none\n",
            " Mixed vegetables None Butter Pav bread, spices None\n",
            "mixed vegetables none butter pav bread spices none\n",
            " Basmati rice None Ghee Meat/vegetables, spices None\n",
            "basmati rice none ghee meat vegetables spices none\n",
            " Rice None Oil Potato masala, chutney None\n",
            "rice none oil potato masala chutney none\n",
            " Chickpeas None Ghee Kulcha bread, spices None\n",
            "chickpeas none ghee kulcha bread spices none\n",
            " Cauliflower None Oil Manchurian sauce None\n",
            "cauliflower none oil manchurian sauce none\n",
            " Mutton None Ghee Basmati rice, spices None\n",
            "mutton none ghee basmati rice spices none\n",
            " Oats Sugar Milk Cinnamon Oats, Dairy\n",
            "oats sugar milk cinnamon oats dairy\n",
            " Chicken None Peanut butter Soy sauce Peanuts\n",
            "chicken none peanut butter soy sauce peanuts\n",
            " Peanuts Sugar VegetableOil Salt Peanuts\n",
            "peanuts sugar vegetableoil salt peanuts\n",
            " Chicken None Peanut oil Satay sauce, spices Peanuts\n",
            "chicken none peanut oil satay sauce spices peanuts\n",
            " Chicken None OliveOil Pesto sauce Pine nuts, Dairy\n",
            "chicken none oliveoil pesto sauce pine nuts dairy\n",
            " Zucchini None OliveOil Pesto sauce Pine nuts, Dairy\n",
            "zucchini none oliveoil pesto sauce pine nuts dairy\n",
            " Rice Sugar Milk Cinnamon, raisins Rice, Dairy\n",
            "rice sugar milk cinnamon raisins rice dairy\n",
            " Shrimp None Butter Garlic, lemon Shellfish\n",
            "shrimp none butter garlic lemon shellfish\n",
            " Shrimp None Butter Garlic, lemon Shellfish\n",
            "shrimp none butter garlic lemon shellfish\n",
            " Shrimp None OliveOil Garlic Shellfish\n",
            "shrimp none oliveoil garlic shellfish\n",
            " Shrimp None OliveOil Lemon juice, garlic Shellfish\n",
            "shrimp none oliveoil lemon juice garlic shellfish\n",
            " Prawns None Ghee Basmati rice, spices Shellfish\n",
            "prawns none ghee basmati rice spices shellfish\n",
            " Lobster None Butter Cream, brandy Shellfish, Dairy\n",
            "lobster none butter cream brandy shellfish dairy\n",
            " Shrimp None OliveOil Caesar dressing Shellfish, Dairy\n",
            "shrimp none oliveoil caesar dressing shellfish dairy\n",
            " Shrimp None Butter Garlic, lemon Shellfish, Dairy\n",
            "shrimp none butter garlic lemon shellfish dairy\n",
            " Prawns None Coconut milk Curry spices Shellfish, Dairy\n",
            "prawns none coconut milk curry spices shellfish dairy\n",
            " Lobster None Mayonnaise Celery, lemon juice Shellfish, Eggs\n",
            "lobster none mayonnaise celery lemon juice shellfish eggs\n",
            " Shrimp None Bacon Seasonings Shellfish, Pork\n",
            "shrimp none bacon seasonings shellfish pork\n",
            " Shrimp None VegetableOil Soy sauce Shellfish, Soybeans\n",
            "shrimp none vegetableoil soy sauce shellfish soybeans\n",
            " Soybeans Sugar None Emulsifiers Soybeans\n",
            "soybeans sugar none emulsifiers soybeans\n",
            " Tofu None VegetableOil Soy sauce Soybeans\n",
            "tofu none vegetableoil soy sauce soybeans\n",
            " Miso paste None None Tofu, seaweed Soybeans\n",
            "miso paste none none tofu seaweed soybeans\n",
            " Tofu None VegetableOil Turmeric, spices Soybeans\n",
            "tofu none vegetableoil turmeric spices soybeans\n",
            " Chicken None Soy sauce Honey, ginger Soybeans\n",
            "chicken none soy sauce honey ginger soybeans\n",
            " Beef None Soy sauce Teriyaki sauce, vegetables Soybeans\n",
            "beef none soy sauce teriyaki sauce vegetables soybeans\n",
            " Sushi rice None Soy sauce Nori (seaweed), fish Soybeans, Fish\n",
            "sushi rice none soy sauce nori seaweed fish soybeans fish\n",
            " Wheat flour None None Salt Wheat\n",
            "wheat flour none none salt wheat\n",
            " Zucchini Sugar VegetableOil Flour Wheat\n",
            "zucchini sugar vegetableoil flour wheat\n",
            " Chicken None Butter Noodles, vegetables Wheat\n",
            "chicken none butter noodles vegetables wheat\n",
            " Onions None VegetableOil Flour Wheat\n",
            "onions none vegetableoil flour wheat\n",
            " Chicken None Butter Vegetables, pastry Wheat\n",
            "chicken none butter vegetables pastry wheat\n",
            " Portobello mushrooms None None Burger bun, vegetables Wheat\n",
            "portobello mushrooms none none burger bun vegetables wheat\n",
            " Potatoes None Ghee Wheat flour, spices Wheat\n",
            "potatoes none ghee wheat flour spices wheat\n",
            " Oats Sugar Butter Flour Wheat, Dairy\n",
            "oats sugar butter flour wheat dairy\n",
            " Flour Sugar Butter Baking powder Wheat, Dairy\n",
            "flour sugar butter baking powder wheat dairy\n",
            " Carrots Sugar VegetableOil Cinnamon Wheat, Dairy\n",
            "carrots sugar vegetableoil cinnamon wheat dairy\n",
            " Blueberries Sugar Butter Flour Wheat, Dairy\n",
            "blueberries sugar butter flour wheat dairy\n",
            " Flour Sugar Butter Chocolate chips Wheat, Dairy\n",
            "flour sugar butter chocolate chips wheat dairy\n",
            " Arborio rice None Butter Mushroom Wheat, Dairy\n",
            "arborio rice none butter mushroom wheat dairy\n",
            " Flour Sugar Butter Cinnamon Wheat, Dairy\n",
            "flour sugar butter cinnamon wheat dairy\n",
            " Pineapple Sugar Butter Flour Wheat, Dairy\n",
            "pineapple sugar butter flour wheat dairy\n",
            " Apples Sugar Butter Cinnamon Wheat, Dairy\n",
            "apples sugar butter cinnamon wheat dairy\n",
            " Bananas Sugar Butter Flour Wheat, Dairy\n",
            "bananas sugar butter flour wheat dairy\n",
            " Flour Sugar Butter Vanilla extract Wheat, Dairy\n",
            "flour sugar butter vanilla extract wheat dairy\n",
            " Apples Sugar Butter Cinnamon Wheat, Dairy\n",
            "apples sugar butter cinnamon wheat dairy\n",
            " Pasta None Bacon Egg, Parmesan cheese Wheat, Dairy\n",
            "pasta none bacon egg parmesan cheese wheat dairy\n",
            " Flour Sugar Butter Blueberries Wheat, Dairy\n",
            "flour sugar butter blueberries wheat dairy\n",
            " Flour Sugar Butter Lemon juice Wheat, Dairy\n",
            "flour sugar butter lemon juice wheat dairy\n",
            " Pumpkin Sugar Butter Cinnamon, nutmeg Wheat, Dairy\n",
            "pumpkin sugar butter cinnamon nutmeg wheat dairy\n",
            " Mixed berries Sugar Butter Flour Wheat, Dairy\n",
            "mixed berries sugar butter flour wheat dairy\n",
            " Bread None Butter Garlic Wheat, Dairy\n",
            "bread none butter garlic wheat dairy\n",
            " Mixed berries Sugar Butter Flour Wheat, Dairy\n",
            "mixed berries sugar butter flour wheat dairy\n",
            " Pasta None Cheese Tomato sauce Wheat, Dairy\n",
            "pasta none cheese tomato sauce wheat dairy\n",
            " Lime juice Sugar Butter Graham cracker crust Wheat, Dairy\n",
            "lime juice sugar butter graham cracker crust wheat dairy\n",
            " Flour Sugar Butter Lemon zest, poppy seeds Wheat, Dairy\n",
            "flour sugar butter lemon zest poppy seeds wheat dairy\n",
            " Chicken None Butter Cheese Wheat, Dairy\n",
            "chicken none butter cheese wheat dairy\n",
            " Flour Sugar Butter Maple syrup Wheat, Dairy\n",
            "flour sugar butter maple syrup wheat dairy\n",
            " Strawberries Sugar Whipped cream Shortcake Wheat, Dairy\n",
            "strawberries sugar whipped cream shortcake wheat dairy\n",
            " Mixed berries Sugar Butter Oats, cinnamon Wheat, Dairy\n",
            "mixed berries sugar butter oats cinnamon wheat dairy\n",
            " Cream cheese Sugar Butter Graham cracker crust, raspberries Wheat, Dairy\n",
            "cream cheese sugar butter graham cracker crust raspberries wheat dairy\n",
            " Oats Brown sugar Butter Raisins, cinnamon Wheat, Dairy\n",
            "oats brown sugar butter raisins cinnamon wheat dairy\n",
            " Apples Sugar Butter Cinnamon, oats Wheat, Dairy\n",
            "apples sugar butter cinnamon oats wheat dairy\n",
            " Chicken None Enchilada sauce Cheese, tortillas Wheat, Dairy\n",
            "chicken none enchilada sauce cheese tortillas wheat dairy\n",
            " Romaine lettuce None Caesar dressing Parmesan cheese, croutons Wheat, Dairy\n",
            "romaine lettuce none caesar dressing parmesan cheese croutons wheat dairy\n",
            " Graham crackers Marshmallows Chocolate None Wheat, Dairy\n",
            "graham crackers marshmallows chocolate none wheat dairy\n",
            " Ladyfingers Sugar Mascarpone cheese Coffee, cocoa Wheat, Dairy\n",
            "ladyfingers sugar mascarpone cheese coffee cocoa wheat dairy\n",
            " Dough Sugar Butter Cinnamon, icing Wheat, Dairy\n",
            "dough sugar butter cinnamon icing wheat dairy\n",
            " Chicken None Caesar dressing Romaine lettuce, croutons Wheat, Dairy\n",
            "chicken none caesar dressing romaine lettuce croutons wheat dairy\n",
            " Vegetables None OliveOil Tomato sauce, cheese Wheat, Dairy\n",
            "vegetables none oliveoil tomato sauce cheese wheat dairy\n",
            " Pizza dough None None Chicken, Alfredo sauce Wheat, Dairy\n",
            "pizza dough none none chicken alfredo sauce wheat dairy\n",
            " Pasta None Caesar dressing Romaine lettuce, Parmesan cheese Wheat, Dairy\n",
            "pasta none caesar dressing romaine lettuce parmesan cheese wheat dairy\n",
            " Apples Sugar Butter Cinnamon, oats Wheat, Dairy\n",
            "apples sugar butter cinnamon oats wheat dairy\n",
            " Apples Sugar Butter Cinnamon, pastry Wheat, Dairy\n",
            "apples sugar butter cinnamon pastry wheat dairy\n",
            " Chicken None OliveOil Tomato sauce, cheese Wheat, Dairy\n",
            "chicken none oliveoil tomato sauce cheese wheat dairy\n",
            " Pumpkin Sugar Butter Pumpkin spice, pastry Wheat, Dairy\n",
            "pumpkin sugar butter pumpkin spice pastry wheat dairy\n",
            " Flour Sugar Butter Blueberries Wheat, Dairy\n",
            "flour sugar butter blueberries wheat dairy\n",
            " Pizza dough None None Sausage, bell peppers Wheat, Dairy\n",
            "pizza dough none none sausage bell peppers wheat dairy\n",
            " Beef None Butter Mushrooms, puff pastry Wheat, Dairy\n",
            "beef none butter mushrooms puff pastry wheat dairy\n",
            " Pasta None None Tomato sauce, cheese Wheat, Dairy\n",
            "pasta none none tomato sauce cheese wheat dairy\n",
            " Flour Sugar Ghee Saffron syrup Wheat, Dairy\n",
            "flour sugar ghee saffron syrup wheat dairy\n",
            " Flour None Butter None Wheat, Dairy\n",
            "flour none butter none wheat dairy\n",
            " Ladyfingers Sugar Mascarpone cheese, coffee liqueur Cocoa powder Wheat, Dairy, Alcohol\n",
            "ladyfingers sugar mascarpone cheese coffee liqueur cocoa powder wheat dairy alcohol\n",
            " Flour Sugar Butter Cocoa powder Wheat, Dairy, Cocoa\n",
            "flour sugar butter cocoa powder wheat dairy cocoa\n",
            " Flour Sugar Butter Chocolate chips Wheat, Dairy, Cocoa\n",
            "flour sugar butter chocolate chips wheat dairy cocoa\n",
            " Lemon juice Sugar Butter Flour, eggs Wheat, Dairy, Eggs\n",
            "lemon juice sugar butter flour eggs wheat dairy eggs\n",
            " Pecans Sugar Butter Corn syrup Wheat, Dairy, Nuts\n",
            "pecans sugar butter corn syrup wheat dairy nuts\n",
            " Zucchini Sugar Butter Cinnamon, nuts Wheat, Dairy, Nuts\n",
            "zucchini sugar butter cinnamon nuts wheat dairy nuts\n",
            " Bananas Sugar Butter Cinnamon, nuts Wheat, Dairy, Nuts\n",
            "bananas sugar butter cinnamon nuts wheat dairy nuts\n",
            " Pizza dough None None Pineapple, ham Wheat, Pork, Dairy\n",
            "pizza dough none none pineapple ham wheat pork dairy\n",
            " Bean None OliveOil spices None\n",
            "bean none oliveoil spices none\n",
            " Corn None OliveOil spices None\n",
            "corn none oliveoil spices none\n",
            " Carrots None OliveOil spices None\n",
            "carrots none oliveoil spices none\n",
            " Peanuts None OliveOil spices None\n",
            "peanuts none oliveoil spices none\n",
            " Bean None OliveOil spices None\n",
            "bean none oliveoil spices none\n"
          ]
        }
      ]
    },
    {
      "cell_type": "code",
      "source": [
        "df['text']"
      ],
      "metadata": {
        "id": "QeWI8IUz9iD9",
        "colab": {
          "base_uri": "https://localhost:8080/"
        },
        "outputId": "86cea563-ebde-4407-f24d-1470dc3cdda5"
      },
      "execution_count": 257,
      "outputs": [
        {
          "output_type": "execute_result",
          "data": {
            "text/plain": [
              "0         almonds sugar butter flour almonds wheat dairy\n",
              "1      chicken broth none none salt chicken wheat celery\n",
              "2                            cheese none none salt dairy\n",
              "3       buttermilk sugar vegetableoil garlic herbs dairy\n",
              "4                        popcorn sugar butter salt dairy\n",
              "                             ...                        \n",
              "303                       bean none oliveoil spices none\n",
              "304                       corn none oliveoil spices none\n",
              "305                    carrots none oliveoil spices none\n",
              "306                    peanuts none oliveoil spices none\n",
              "307                       bean none oliveoil spices none\n",
              "Name: text, Length: 308, dtype: object"
            ]
          },
          "metadata": {},
          "execution_count": 257
        }
      ]
    },
    {
      "cell_type": "code",
      "source": [
        "df"
      ],
      "metadata": {
        "id": "wc5L0nt6x_lC",
        "colab": {
          "base_uri": "https://localhost:8080/",
          "height": 579
        },
        "outputId": "92a3c2ab-f0b5-4773-d81b-dd80c4560e11"
      },
      "execution_count": 258,
      "outputs": [
        {
          "output_type": "execute_result",
          "data": {
            "text/plain": [
              "     index         Food Product Main Ingredient Sweetener       Fat/Oil  \\\n",
              "0        0       Almond Cookies         Almonds     Sugar        Butter   \n",
              "1        2  Chicken Noodle Soup   Chicken broth      None          None   \n",
              "2        4       Cheddar Cheese          Cheese      None          None   \n",
              "3        5       Ranch Dressing      Buttermilk     Sugar  VegetableOil   \n",
              "4        6      Caramel Popcorn         Popcorn     Sugar        Butter   \n",
              "..     ...                  ...             ...       ...           ...   \n",
              "303    399           Bean Salad            Bean      None      OliveOil   \n",
              "304    400           Corn Salad            Corn      None      OliveOil   \n",
              "305    401        Carrots Salad         Carrots      None      OliveOil   \n",
              "306    402        Peanuts Salad         Peanuts      None      OliveOil   \n",
              "307    403           Bean Salad            Bean      None      OliveOil   \n",
              "\n",
              "         Seasoning               Allergens        Prediction  \\\n",
              "0            Flour   Almonds, Wheat, Dairy          Contains   \n",
              "1             Salt  Chicken, Wheat, Celery          Contains   \n",
              "2             Salt                   Dairy          Contains   \n",
              "3    Garlic, herbs                   Dairy          Contains   \n",
              "4             Salt                   Dairy          Contains   \n",
              "..             ...                     ...               ...   \n",
              "303         spices                    None  Does not contain   \n",
              "304         spices                    None  Does not contain   \n",
              "305         spices                    None  Does not contain   \n",
              "306         spices                    None  Does not contain   \n",
              "307         spices                    None  Does not contain   \n",
              "\n",
              "                                                  text  \n",
              "0       almonds sugar butter flour almonds wheat dairy  \n",
              "1    chicken broth none none salt chicken wheat celery  \n",
              "2                          cheese none none salt dairy  \n",
              "3     buttermilk sugar vegetableoil garlic herbs dairy  \n",
              "4                      popcorn sugar butter salt dairy  \n",
              "..                                                 ...  \n",
              "303                     bean none oliveoil spices none  \n",
              "304                     corn none oliveoil spices none  \n",
              "305                  carrots none oliveoil spices none  \n",
              "306                  peanuts none oliveoil spices none  \n",
              "307                     bean none oliveoil spices none  \n",
              "\n",
              "[308 rows x 9 columns]"
            ],
            "text/html": [
              "\n",
              "  <div id=\"df-7bb814fa-4325-425a-9161-16d9421cd505\" class=\"colab-df-container\">\n",
              "    <div>\n",
              "<style scoped>\n",
              "    .dataframe tbody tr th:only-of-type {\n",
              "        vertical-align: middle;\n",
              "    }\n",
              "\n",
              "    .dataframe tbody tr th {\n",
              "        vertical-align: top;\n",
              "    }\n",
              "\n",
              "    .dataframe thead th {\n",
              "        text-align: right;\n",
              "    }\n",
              "</style>\n",
              "<table border=\"1\" class=\"dataframe\">\n",
              "  <thead>\n",
              "    <tr style=\"text-align: right;\">\n",
              "      <th></th>\n",
              "      <th>index</th>\n",
              "      <th>Food Product</th>\n",
              "      <th>Main Ingredient</th>\n",
              "      <th>Sweetener</th>\n",
              "      <th>Fat/Oil</th>\n",
              "      <th>Seasoning</th>\n",
              "      <th>Allergens</th>\n",
              "      <th>Prediction</th>\n",
              "      <th>text</th>\n",
              "    </tr>\n",
              "  </thead>\n",
              "  <tbody>\n",
              "    <tr>\n",
              "      <th>0</th>\n",
              "      <td>0</td>\n",
              "      <td>Almond Cookies</td>\n",
              "      <td>Almonds</td>\n",
              "      <td>Sugar</td>\n",
              "      <td>Butter</td>\n",
              "      <td>Flour</td>\n",
              "      <td>Almonds, Wheat, Dairy</td>\n",
              "      <td>Contains</td>\n",
              "      <td>almonds sugar butter flour almonds wheat dairy</td>\n",
              "    </tr>\n",
              "    <tr>\n",
              "      <th>1</th>\n",
              "      <td>2</td>\n",
              "      <td>Chicken Noodle Soup</td>\n",
              "      <td>Chicken broth</td>\n",
              "      <td>None</td>\n",
              "      <td>None</td>\n",
              "      <td>Salt</td>\n",
              "      <td>Chicken, Wheat, Celery</td>\n",
              "      <td>Contains</td>\n",
              "      <td>chicken broth none none salt chicken wheat celery</td>\n",
              "    </tr>\n",
              "    <tr>\n",
              "      <th>2</th>\n",
              "      <td>4</td>\n",
              "      <td>Cheddar Cheese</td>\n",
              "      <td>Cheese</td>\n",
              "      <td>None</td>\n",
              "      <td>None</td>\n",
              "      <td>Salt</td>\n",
              "      <td>Dairy</td>\n",
              "      <td>Contains</td>\n",
              "      <td>cheese none none salt dairy</td>\n",
              "    </tr>\n",
              "    <tr>\n",
              "      <th>3</th>\n",
              "      <td>5</td>\n",
              "      <td>Ranch Dressing</td>\n",
              "      <td>Buttermilk</td>\n",
              "      <td>Sugar</td>\n",
              "      <td>VegetableOil</td>\n",
              "      <td>Garlic, herbs</td>\n",
              "      <td>Dairy</td>\n",
              "      <td>Contains</td>\n",
              "      <td>buttermilk sugar vegetableoil garlic herbs dairy</td>\n",
              "    </tr>\n",
              "    <tr>\n",
              "      <th>4</th>\n",
              "      <td>6</td>\n",
              "      <td>Caramel Popcorn</td>\n",
              "      <td>Popcorn</td>\n",
              "      <td>Sugar</td>\n",
              "      <td>Butter</td>\n",
              "      <td>Salt</td>\n",
              "      <td>Dairy</td>\n",
              "      <td>Contains</td>\n",
              "      <td>popcorn sugar butter salt dairy</td>\n",
              "    </tr>\n",
              "    <tr>\n",
              "      <th>...</th>\n",
              "      <td>...</td>\n",
              "      <td>...</td>\n",
              "      <td>...</td>\n",
              "      <td>...</td>\n",
              "      <td>...</td>\n",
              "      <td>...</td>\n",
              "      <td>...</td>\n",
              "      <td>...</td>\n",
              "      <td>...</td>\n",
              "    </tr>\n",
              "    <tr>\n",
              "      <th>303</th>\n",
              "      <td>399</td>\n",
              "      <td>Bean Salad</td>\n",
              "      <td>Bean</td>\n",
              "      <td>None</td>\n",
              "      <td>OliveOil</td>\n",
              "      <td>spices</td>\n",
              "      <td>None</td>\n",
              "      <td>Does not contain</td>\n",
              "      <td>bean none oliveoil spices none</td>\n",
              "    </tr>\n",
              "    <tr>\n",
              "      <th>304</th>\n",
              "      <td>400</td>\n",
              "      <td>Corn Salad</td>\n",
              "      <td>Corn</td>\n",
              "      <td>None</td>\n",
              "      <td>OliveOil</td>\n",
              "      <td>spices</td>\n",
              "      <td>None</td>\n",
              "      <td>Does not contain</td>\n",
              "      <td>corn none oliveoil spices none</td>\n",
              "    </tr>\n",
              "    <tr>\n",
              "      <th>305</th>\n",
              "      <td>401</td>\n",
              "      <td>Carrots Salad</td>\n",
              "      <td>Carrots</td>\n",
              "      <td>None</td>\n",
              "      <td>OliveOil</td>\n",
              "      <td>spices</td>\n",
              "      <td>None</td>\n",
              "      <td>Does not contain</td>\n",
              "      <td>carrots none oliveoil spices none</td>\n",
              "    </tr>\n",
              "    <tr>\n",
              "      <th>306</th>\n",
              "      <td>402</td>\n",
              "      <td>Peanuts Salad</td>\n",
              "      <td>Peanuts</td>\n",
              "      <td>None</td>\n",
              "      <td>OliveOil</td>\n",
              "      <td>spices</td>\n",
              "      <td>None</td>\n",
              "      <td>Does not contain</td>\n",
              "      <td>peanuts none oliveoil spices none</td>\n",
              "    </tr>\n",
              "    <tr>\n",
              "      <th>307</th>\n",
              "      <td>403</td>\n",
              "      <td>Bean Salad</td>\n",
              "      <td>Bean</td>\n",
              "      <td>None</td>\n",
              "      <td>OliveOil</td>\n",
              "      <td>spices</td>\n",
              "      <td>None</td>\n",
              "      <td>Does not contain</td>\n",
              "      <td>bean none oliveoil spices none</td>\n",
              "    </tr>\n",
              "  </tbody>\n",
              "</table>\n",
              "<p>308 rows × 9 columns</p>\n",
              "</div>\n",
              "    <div class=\"colab-df-buttons\">\n",
              "\n",
              "  <div class=\"colab-df-container\">\n",
              "    <button class=\"colab-df-convert\" onclick=\"convertToInteractive('df-7bb814fa-4325-425a-9161-16d9421cd505')\"\n",
              "            title=\"Convert this dataframe to an interactive table.\"\n",
              "            style=\"display:none;\">\n",
              "\n",
              "  <svg xmlns=\"http://www.w3.org/2000/svg\" height=\"24px\" viewBox=\"0 -960 960 960\">\n",
              "    <path d=\"M120-120v-720h720v720H120Zm60-500h600v-160H180v160Zm220 220h160v-160H400v160Zm0 220h160v-160H400v160ZM180-400h160v-160H180v160Zm440 0h160v-160H620v160ZM180-180h160v-160H180v160Zm440 0h160v-160H620v160Z\"/>\n",
              "  </svg>\n",
              "    </button>\n",
              "\n",
              "  <style>\n",
              "    .colab-df-container {\n",
              "      display:flex;\n",
              "      gap: 12px;\n",
              "    }\n",
              "\n",
              "    .colab-df-convert {\n",
              "      background-color: #E8F0FE;\n",
              "      border: none;\n",
              "      border-radius: 50%;\n",
              "      cursor: pointer;\n",
              "      display: none;\n",
              "      fill: #1967D2;\n",
              "      height: 32px;\n",
              "      padding: 0 0 0 0;\n",
              "      width: 32px;\n",
              "    }\n",
              "\n",
              "    .colab-df-convert:hover {\n",
              "      background-color: #E2EBFA;\n",
              "      box-shadow: 0px 1px 2px rgba(60, 64, 67, 0.3), 0px 1px 3px 1px rgba(60, 64, 67, 0.15);\n",
              "      fill: #174EA6;\n",
              "    }\n",
              "\n",
              "    .colab-df-buttons div {\n",
              "      margin-bottom: 4px;\n",
              "    }\n",
              "\n",
              "    [theme=dark] .colab-df-convert {\n",
              "      background-color: #3B4455;\n",
              "      fill: #D2E3FC;\n",
              "    }\n",
              "\n",
              "    [theme=dark] .colab-df-convert:hover {\n",
              "      background-color: #434B5C;\n",
              "      box-shadow: 0px 1px 3px 1px rgba(0, 0, 0, 0.15);\n",
              "      filter: drop-shadow(0px 1px 2px rgba(0, 0, 0, 0.3));\n",
              "      fill: #FFFFFF;\n",
              "    }\n",
              "  </style>\n",
              "\n",
              "    <script>\n",
              "      const buttonEl =\n",
              "        document.querySelector('#df-7bb814fa-4325-425a-9161-16d9421cd505 button.colab-df-convert');\n",
              "      buttonEl.style.display =\n",
              "        google.colab.kernel.accessAllowed ? 'block' : 'none';\n",
              "\n",
              "      async function convertToInteractive(key) {\n",
              "        const element = document.querySelector('#df-7bb814fa-4325-425a-9161-16d9421cd505');\n",
              "        const dataTable =\n",
              "          await google.colab.kernel.invokeFunction('convertToInteractive',\n",
              "                                                    [key], {});\n",
              "        if (!dataTable) return;\n",
              "\n",
              "        const docLinkHtml = 'Like what you see? Visit the ' +\n",
              "          '<a target=\"_blank\" href=https://colab.research.google.com/notebooks/data_table.ipynb>data table notebook</a>'\n",
              "          + ' to learn more about interactive tables.';\n",
              "        element.innerHTML = '';\n",
              "        dataTable['output_type'] = 'display_data';\n",
              "        await google.colab.output.renderOutput(dataTable, element);\n",
              "        const docLink = document.createElement('div');\n",
              "        docLink.innerHTML = docLinkHtml;\n",
              "        element.appendChild(docLink);\n",
              "      }\n",
              "    </script>\n",
              "  </div>\n",
              "\n",
              "\n",
              "<div id=\"df-96afadbc-983a-4bad-bd60-1bbf3591151a\">\n",
              "  <button class=\"colab-df-quickchart\" onclick=\"quickchart('df-96afadbc-983a-4bad-bd60-1bbf3591151a')\"\n",
              "            title=\"Suggest charts.\"\n",
              "            style=\"display:none;\">\n",
              "\n",
              "<svg xmlns=\"http://www.w3.org/2000/svg\" height=\"24px\"viewBox=\"0 0 24 24\"\n",
              "     width=\"24px\">\n",
              "    <g>\n",
              "        <path d=\"M19 3H5c-1.1 0-2 .9-2 2v14c0 1.1.9 2 2 2h14c1.1 0 2-.9 2-2V5c0-1.1-.9-2-2-2zM9 17H7v-7h2v7zm4 0h-2V7h2v10zm4 0h-2v-4h2v4z\"/>\n",
              "    </g>\n",
              "</svg>\n",
              "  </button>\n",
              "\n",
              "<style>\n",
              "  .colab-df-quickchart {\n",
              "    background-color: #E8F0FE;\n",
              "    border: none;\n",
              "    border-radius: 50%;\n",
              "    cursor: pointer;\n",
              "    display: none;\n",
              "    fill: #1967D2;\n",
              "    height: 32px;\n",
              "    padding: 0 0 0 0;\n",
              "    width: 32px;\n",
              "  }\n",
              "\n",
              "  .colab-df-quickchart:hover {\n",
              "    background-color: #E2EBFA;\n",
              "    box-shadow: 0px 1px 2px rgba(60, 64, 67, 0.3), 0px 1px 3px 1px rgba(60, 64, 67, 0.15);\n",
              "    fill: #174EA6;\n",
              "  }\n",
              "\n",
              "  [theme=dark] .colab-df-quickchart {\n",
              "    background-color: #3B4455;\n",
              "    fill: #D2E3FC;\n",
              "  }\n",
              "\n",
              "  [theme=dark] .colab-df-quickchart:hover {\n",
              "    background-color: #434B5C;\n",
              "    box-shadow: 0px 1px 3px 1px rgba(0, 0, 0, 0.15);\n",
              "    filter: drop-shadow(0px 1px 2px rgba(0, 0, 0, 0.3));\n",
              "    fill: #FFFFFF;\n",
              "  }\n",
              "</style>\n",
              "\n",
              "  <script>\n",
              "    async function quickchart(key) {\n",
              "      const charts = await google.colab.kernel.invokeFunction(\n",
              "          'suggestCharts', [key], {});\n",
              "    }\n",
              "    (() => {\n",
              "      let quickchartButtonEl =\n",
              "        document.querySelector('#df-96afadbc-983a-4bad-bd60-1bbf3591151a button');\n",
              "      quickchartButtonEl.style.display =\n",
              "        google.colab.kernel.accessAllowed ? 'block' : 'none';\n",
              "    })();\n",
              "  </script>\n",
              "</div>\n",
              "    </div>\n",
              "  </div>\n"
            ]
          },
          "metadata": {},
          "execution_count": 258
        }
      ]
    },
    {
      "cell_type": "code",
      "source": [
        "df.describe()"
      ],
      "metadata": {
        "id": "RlEAtPu6berX",
        "colab": {
          "base_uri": "https://localhost:8080/",
          "height": 300
        },
        "outputId": "7261cecd-91c3-44b3-9132-23964a013540"
      },
      "execution_count": 259,
      "outputs": [
        {
          "output_type": "execute_result",
          "data": {
            "text/plain": [
              "           index\n",
              "count  308.00000\n",
              "mean   191.88961\n",
              "std    116.64683\n",
              "min      0.00000\n",
              "25%     91.75000\n",
              "50%    183.50000\n",
              "75%    297.50000\n",
              "max    403.00000"
            ],
            "text/html": [
              "\n",
              "  <div id=\"df-f3d3eb71-e408-40d0-92a1-9baa540036bb\" class=\"colab-df-container\">\n",
              "    <div>\n",
              "<style scoped>\n",
              "    .dataframe tbody tr th:only-of-type {\n",
              "        vertical-align: middle;\n",
              "    }\n",
              "\n",
              "    .dataframe tbody tr th {\n",
              "        vertical-align: top;\n",
              "    }\n",
              "\n",
              "    .dataframe thead th {\n",
              "        text-align: right;\n",
              "    }\n",
              "</style>\n",
              "<table border=\"1\" class=\"dataframe\">\n",
              "  <thead>\n",
              "    <tr style=\"text-align: right;\">\n",
              "      <th></th>\n",
              "      <th>index</th>\n",
              "    </tr>\n",
              "  </thead>\n",
              "  <tbody>\n",
              "    <tr>\n",
              "      <th>count</th>\n",
              "      <td>308.00000</td>\n",
              "    </tr>\n",
              "    <tr>\n",
              "      <th>mean</th>\n",
              "      <td>191.88961</td>\n",
              "    </tr>\n",
              "    <tr>\n",
              "      <th>std</th>\n",
              "      <td>116.64683</td>\n",
              "    </tr>\n",
              "    <tr>\n",
              "      <th>min</th>\n",
              "      <td>0.00000</td>\n",
              "    </tr>\n",
              "    <tr>\n",
              "      <th>25%</th>\n",
              "      <td>91.75000</td>\n",
              "    </tr>\n",
              "    <tr>\n",
              "      <th>50%</th>\n",
              "      <td>183.50000</td>\n",
              "    </tr>\n",
              "    <tr>\n",
              "      <th>75%</th>\n",
              "      <td>297.50000</td>\n",
              "    </tr>\n",
              "    <tr>\n",
              "      <th>max</th>\n",
              "      <td>403.00000</td>\n",
              "    </tr>\n",
              "  </tbody>\n",
              "</table>\n",
              "</div>\n",
              "    <div class=\"colab-df-buttons\">\n",
              "\n",
              "  <div class=\"colab-df-container\">\n",
              "    <button class=\"colab-df-convert\" onclick=\"convertToInteractive('df-f3d3eb71-e408-40d0-92a1-9baa540036bb')\"\n",
              "            title=\"Convert this dataframe to an interactive table.\"\n",
              "            style=\"display:none;\">\n",
              "\n",
              "  <svg xmlns=\"http://www.w3.org/2000/svg\" height=\"24px\" viewBox=\"0 -960 960 960\">\n",
              "    <path d=\"M120-120v-720h720v720H120Zm60-500h600v-160H180v160Zm220 220h160v-160H400v160Zm0 220h160v-160H400v160ZM180-400h160v-160H180v160Zm440 0h160v-160H620v160ZM180-180h160v-160H180v160Zm440 0h160v-160H620v160Z\"/>\n",
              "  </svg>\n",
              "    </button>\n",
              "\n",
              "  <style>\n",
              "    .colab-df-container {\n",
              "      display:flex;\n",
              "      gap: 12px;\n",
              "    }\n",
              "\n",
              "    .colab-df-convert {\n",
              "      background-color: #E8F0FE;\n",
              "      border: none;\n",
              "      border-radius: 50%;\n",
              "      cursor: pointer;\n",
              "      display: none;\n",
              "      fill: #1967D2;\n",
              "      height: 32px;\n",
              "      padding: 0 0 0 0;\n",
              "      width: 32px;\n",
              "    }\n",
              "\n",
              "    .colab-df-convert:hover {\n",
              "      background-color: #E2EBFA;\n",
              "      box-shadow: 0px 1px 2px rgba(60, 64, 67, 0.3), 0px 1px 3px 1px rgba(60, 64, 67, 0.15);\n",
              "      fill: #174EA6;\n",
              "    }\n",
              "\n",
              "    .colab-df-buttons div {\n",
              "      margin-bottom: 4px;\n",
              "    }\n",
              "\n",
              "    [theme=dark] .colab-df-convert {\n",
              "      background-color: #3B4455;\n",
              "      fill: #D2E3FC;\n",
              "    }\n",
              "\n",
              "    [theme=dark] .colab-df-convert:hover {\n",
              "      background-color: #434B5C;\n",
              "      box-shadow: 0px 1px 3px 1px rgba(0, 0, 0, 0.15);\n",
              "      filter: drop-shadow(0px 1px 2px rgba(0, 0, 0, 0.3));\n",
              "      fill: #FFFFFF;\n",
              "    }\n",
              "  </style>\n",
              "\n",
              "    <script>\n",
              "      const buttonEl =\n",
              "        document.querySelector('#df-f3d3eb71-e408-40d0-92a1-9baa540036bb button.colab-df-convert');\n",
              "      buttonEl.style.display =\n",
              "        google.colab.kernel.accessAllowed ? 'block' : 'none';\n",
              "\n",
              "      async function convertToInteractive(key) {\n",
              "        const element = document.querySelector('#df-f3d3eb71-e408-40d0-92a1-9baa540036bb');\n",
              "        const dataTable =\n",
              "          await google.colab.kernel.invokeFunction('convertToInteractive',\n",
              "                                                    [key], {});\n",
              "        if (!dataTable) return;\n",
              "\n",
              "        const docLinkHtml = 'Like what you see? Visit the ' +\n",
              "          '<a target=\"_blank\" href=https://colab.research.google.com/notebooks/data_table.ipynb>data table notebook</a>'\n",
              "          + ' to learn more about interactive tables.';\n",
              "        element.innerHTML = '';\n",
              "        dataTable['output_type'] = 'display_data';\n",
              "        await google.colab.output.renderOutput(dataTable, element);\n",
              "        const docLink = document.createElement('div');\n",
              "        docLink.innerHTML = docLinkHtml;\n",
              "        element.appendChild(docLink);\n",
              "      }\n",
              "    </script>\n",
              "  </div>\n",
              "\n",
              "\n",
              "<div id=\"df-5b692ac2-a976-495d-89ec-7209ee789cee\">\n",
              "  <button class=\"colab-df-quickchart\" onclick=\"quickchart('df-5b692ac2-a976-495d-89ec-7209ee789cee')\"\n",
              "            title=\"Suggest charts.\"\n",
              "            style=\"display:none;\">\n",
              "\n",
              "<svg xmlns=\"http://www.w3.org/2000/svg\" height=\"24px\"viewBox=\"0 0 24 24\"\n",
              "     width=\"24px\">\n",
              "    <g>\n",
              "        <path d=\"M19 3H5c-1.1 0-2 .9-2 2v14c0 1.1.9 2 2 2h14c1.1 0 2-.9 2-2V5c0-1.1-.9-2-2-2zM9 17H7v-7h2v7zm4 0h-2V7h2v10zm4 0h-2v-4h2v4z\"/>\n",
              "    </g>\n",
              "</svg>\n",
              "  </button>\n",
              "\n",
              "<style>\n",
              "  .colab-df-quickchart {\n",
              "    background-color: #E8F0FE;\n",
              "    border: none;\n",
              "    border-radius: 50%;\n",
              "    cursor: pointer;\n",
              "    display: none;\n",
              "    fill: #1967D2;\n",
              "    height: 32px;\n",
              "    padding: 0 0 0 0;\n",
              "    width: 32px;\n",
              "  }\n",
              "\n",
              "  .colab-df-quickchart:hover {\n",
              "    background-color: #E2EBFA;\n",
              "    box-shadow: 0px 1px 2px rgba(60, 64, 67, 0.3), 0px 1px 3px 1px rgba(60, 64, 67, 0.15);\n",
              "    fill: #174EA6;\n",
              "  }\n",
              "\n",
              "  [theme=dark] .colab-df-quickchart {\n",
              "    background-color: #3B4455;\n",
              "    fill: #D2E3FC;\n",
              "  }\n",
              "\n",
              "  [theme=dark] .colab-df-quickchart:hover {\n",
              "    background-color: #434B5C;\n",
              "    box-shadow: 0px 1px 3px 1px rgba(0, 0, 0, 0.15);\n",
              "    filter: drop-shadow(0px 1px 2px rgba(0, 0, 0, 0.3));\n",
              "    fill: #FFFFFF;\n",
              "  }\n",
              "</style>\n",
              "\n",
              "  <script>\n",
              "    async function quickchart(key) {\n",
              "      const charts = await google.colab.kernel.invokeFunction(\n",
              "          'suggestCharts', [key], {});\n",
              "    }\n",
              "    (() => {\n",
              "      let quickchartButtonEl =\n",
              "        document.querySelector('#df-5b692ac2-a976-495d-89ec-7209ee789cee button');\n",
              "      quickchartButtonEl.style.display =\n",
              "        google.colab.kernel.accessAllowed ? 'block' : 'none';\n",
              "    })();\n",
              "  </script>\n",
              "</div>\n",
              "    </div>\n",
              "  </div>\n"
            ]
          },
          "metadata": {},
          "execution_count": 259
        }
      ]
    },
    {
      "cell_type": "markdown",
      "source": [
        "# Assigning target and features"
      ],
      "metadata": {
        "id": "J2YhuCRgon2D"
      }
    },
    {
      "cell_type": "code",
      "source": [
        "target=df['Prediction']\n",
        "features=df['text']"
      ],
      "metadata": {
        "id": "p4W7OklPbgXc"
      },
      "execution_count": 260,
      "outputs": []
    },
    {
      "cell_type": "markdown",
      "source": [
        "# Splitting train and test data"
      ],
      "metadata": {
        "id": "6V5dU15Qozrq"
      }
    },
    {
      "cell_type": "code",
      "source": [],
      "metadata": {
        "id": "QjrEdicOozXf"
      },
      "execution_count": 260,
      "outputs": []
    },
    {
      "cell_type": "code",
      "source": [
        "from sklearn.model_selection import train_test_split\n",
        "\n",
        "features_train , features_test , target_train , target_test = train_test_split(features,target , test_size=0.2 , random_state=23, stratify=target)"
      ],
      "metadata": {
        "id": "uQPUIcP-biDf"
      },
      "execution_count": 261,
      "outputs": []
    },
    {
      "cell_type": "markdown",
      "source": [
        "# Feature Extraction (Bag of Words and TFIDF Vectorizer)"
      ],
      "metadata": {
        "id": "LDjhoGTpo-cA"
      }
    },
    {
      "cell_type": "code",
      "source": [
        "from sklearn.feature_extraction.text import CountVectorizer\n",
        "bow_vectorizer = CountVectorizer()\n",
        "X_train_bow = bow_vectorizer.fit_transform(features_train)\n",
        "X_test_bow = bow_vectorizer.transform(features_test)"
      ],
      "metadata": {
        "id": "k1uJtqV2Ju8T"
      },
      "execution_count": 262,
      "outputs": []
    },
    {
      "cell_type": "code",
      "source": [
        "from sklearn.feature_extraction.text import TfidfVectorizer\n",
        "vectorizer = TfidfVectorizer()\n",
        "trainf = vectorizer.fit_transform(features_train)\n",
        "testf = vectorizer.transform(features_test)"
      ],
      "metadata": {
        "id": "yGR5Lp4ab4Q_"
      },
      "execution_count": 263,
      "outputs": []
    },
    {
      "cell_type": "markdown",
      "source": [
        "# Random Forest\n",
        "\n",
        "---\n",
        "\n"
      ],
      "metadata": {
        "id": "xMzoHUuUpPdH"
      }
    },
    {
      "cell_type": "markdown",
      "source": [
        "##  TFIDF"
      ],
      "metadata": {
        "id": "axzunVGIp2zk"
      }
    },
    {
      "cell_type": "code",
      "source": [
        "from sklearn.ensemble import RandomForestClassifier\n",
        "ran = RandomForestClassifier(max_depth=15, random_state=0)\n",
        "ran.fit(trainf, target_train)\n",
        "y_pred=clf.predict(testf)\n",
        "from sklearn.metrics import classification_report\n",
        "print(classification_report(target_test, y_pred))"
      ],
      "metadata": {
        "id": "b5TCDIlnb5_-",
        "colab": {
          "base_uri": "https://localhost:8080/"
        },
        "outputId": "6bdf59f0-77dc-413c-bbe6-976b9151735b"
      },
      "execution_count": 264,
      "outputs": [
        {
          "output_type": "stream",
          "name": "stdout",
          "text": [
            "                  precision    recall  f1-score   support\n",
            "\n",
            "        Contains       1.00      1.00      1.00        39\n",
            "Does not contain       1.00      1.00      1.00        23\n",
            "\n",
            "        accuracy                           1.00        62\n",
            "       macro avg       1.00      1.00      1.00        62\n",
            "    weighted avg       1.00      1.00      1.00        62\n",
            "\n"
          ]
        }
      ]
    },
    {
      "cell_type": "code",
      "source": [
        "import seaborn as sns\n",
        "import matplotlib.pyplot as plt\n",
        "from sklearn.metrics import confusion_matrix"
      ],
      "metadata": {
        "id": "cBac5wB7hy-i"
      },
      "execution_count": 265,
      "outputs": []
    },
    {
      "cell_type": "code",
      "source": [
        "conf_matrix = confusion_matrix(target_test, y_pred)\n",
        "\n",
        "# Create a heatmap using seaborn\n",
        "plt.figure(figsize=(4, 2))\n",
        "sns.heatmap(conf_matrix, annot=True, fmt='d', cmap='Blues',\n",
        "            xticklabels=clf.classes_,\n",
        "            yticklabels=clf.classes_)\n",
        "plt.xlabel('Predicted')\n",
        "plt.ylabel('True')\n",
        "plt.title('Confusion Matrix Heatmap')\n",
        "plt.show()"
      ],
      "metadata": {
        "colab": {
          "base_uri": "https://localhost:8080/",
          "height": 256
        },
        "id": "DeXd-DI7hfeM",
        "outputId": "b401a569-ff59-49da-fe07-537f3d4622b0"
      },
      "execution_count": 266,
      "outputs": [
        {
          "output_type": "display_data",
          "data": {
            "text/plain": [
              "<Figure size 400x200 with 2 Axes>"
            ],
            "image/png": "[encoded data removed]"
          },
          "metadata": {}
        }
      ]
    },
    {
      "cell_type": "markdown",
      "source": [
        "## Bag of Words(BoW)"
      ],
      "metadata": {
        "id": "pG3IOnJFrHUB"
      }
    },
    {
      "cell_type": "code",
      "source": [
        "from sklearn.ensemble import RandomForestClassifier\n",
        "ran_bow = RandomForestClassifier(max_depth=15, random_state=0)\n",
        "ran_bow.fit(X_train_bow, target_train)\n",
        "ran_pred_bow=clf.predict(X_test_bow)\n",
        "from sklearn.metrics import classification_report\n",
        "print(classification_report(target_test, ran_pred_bow))"
      ],
      "metadata": {
        "id": "A4PXuCEYNnyx",
        "colab": {
          "base_uri": "https://localhost:8080/"
        },
        "outputId": "e143e766-9b8c-4947-c47a-1cee66d3a14d"
      },
      "execution_count": 267,
      "outputs": [
        {
          "output_type": "stream",
          "name": "stdout",
          "text": [
            "                  precision    recall  f1-score   support\n",
            "\n",
            "        Contains       1.00      0.90      0.95        39\n",
            "Does not contain       0.85      1.00      0.92        23\n",
            "\n",
            "        accuracy                           0.94        62\n",
            "       macro avg       0.93      0.95      0.93        62\n",
            "    weighted avg       0.95      0.94      0.94        62\n",
            "\n"
          ]
        }
      ]
    },
    {
      "cell_type": "code",
      "source": [
        "conf_matrix = confusion_matrix(target_test, ran_pred_bow)\n",
        "\n",
        "# Create a heatmap using seaborn\n",
        "plt.figure(figsize=(4, 2))\n",
        "sns.heatmap(conf_matrix, annot=True, fmt='d', cmap='Blues',\n",
        "            xticklabels=ran_bow.classes_,\n",
        "            yticklabels=ran_bow.classes_)\n",
        "plt.xlabel('Predicted')\n",
        "plt.ylabel('True')\n",
        "plt.title('Confusion Matrix Heatmap')\n",
        "plt.show()\n"
      ],
      "metadata": {
        "colab": {
          "base_uri": "https://localhost:8080/",
          "height": 256
        },
        "id": "ciIikBWDrajD",
        "outputId": "2832765e-b78c-4287-c87f-3e7ac4eadda8"
      },
      "execution_count": 268,
      "outputs": [
        {
          "output_type": "display_data",
          "data": {
            "text/plain": [
              "<Figure size 400x200 with 2 Axes>"
            ],
            "image/png": "[encoded data removed]"
          },
          "metadata": {}
        }
      ]
    },
    {
      "cell_type": "markdown",
      "source": [
        "# K Nearest Neighbor"
      ],
      "metadata": {
        "id": "L1fmPeWBr-nS"
      }
    },
    {
      "cell_type": "markdown",
      "source": [
        "## Bag of Words"
      ],
      "metadata": {
        "id": "R65sIvM1sC3L"
      }
    },
    {
      "cell_type": "code",
      "source": [
        "from sklearn.neighbors import KNeighborsClassifier\n",
        "neigh_bow = KNeighborsClassifier(n_neighbors=3)\n",
        "neigh_bow.fit(X_train_bow, target_train)\n",
        "neigh_pred_bow=neigh_bow.predict(X_test_bow)\n",
        "from sklearn.metrics import classification_report\n",
        "print(classification_report(target_test, neigh_pred_bow))"
      ],
      "metadata": {
        "id": "F21xPAIib7Rq",
        "colab": {
          "base_uri": "https://localhost:8080/"
        },
        "outputId": "47396261-e0f1-4da1-b088-95762a4af628"
      },
      "execution_count": 269,
      "outputs": [
        {
          "output_type": "stream",
          "name": "stdout",
          "text": [
            "                  precision    recall  f1-score   support\n",
            "\n",
            "        Contains       1.00      0.97      0.99        39\n",
            "Does not contain       0.96      1.00      0.98        23\n",
            "\n",
            "        accuracy                           0.98        62\n",
            "       macro avg       0.98      0.99      0.98        62\n",
            "    weighted avg       0.98      0.98      0.98        62\n",
            "\n"
          ]
        }
      ]
    },
    {
      "cell_type": "code",
      "source": [
        "conf_matrix = confusion_matrix(target_test, neigh_pred_bow)\n",
        "\n",
        "# Create a heatmap using seaborn\n",
        "plt.figure(figsize=(4, 2))\n",
        "sns.heatmap(conf_matrix, annot=True, fmt='d', cmap='Blues',\n",
        "            xticklabels=neigh_bow.classes_,\n",
        "            yticklabels=neigh_bow.classes_)\n",
        "plt.xlabel('Predicted')\n",
        "plt.ylabel('True')\n",
        "plt.title('Confusion Matrix Heatmap')\n",
        "plt.show()\n"
      ],
      "metadata": {
        "colab": {
          "base_uri": "https://localhost:8080/",
          "height": 256
        },
        "id": "IWfJWMMvsiqb",
        "outputId": "51f32e92-d1ae-4a77-f8ad-86d03a8f6cfa"
      },
      "execution_count": 270,
      "outputs": [
        {
          "output_type": "display_data",
          "data": {
            "text/plain": [
              "<Figure size 400x200 with 2 Axes>"
            ],
            "image/png": "[encoded data removed]"
          },
          "metadata": {}
        }
      ]
    },
    {
      "cell_type": "markdown",
      "source": [
        "## TF-IDF"
      ],
      "metadata": {
        "id": "TlB743YXsHKs"
      }
    },
    {
      "cell_type": "code",
      "source": [
        "from sklearn.neighbors import KNeighborsClassifier\n",
        "neigh = KNeighborsClassifier(n_neighbors=3)\n",
        "neigh.fit(trainf, target_train)\n",
        "neigh_pred=neigh.predict(testf)\n",
        "from sklearn.metrics import classification_report\n",
        "print(classification_report(target_test, neigh_pred))"
      ],
      "metadata": {
        "colab": {
          "base_uri": "https://localhost:8080/"
        },
        "id": "u6Q2liHXX0jg",
        "outputId": "cc7df13f-16af-4660-8a20-c3e46135d934"
      },
      "execution_count": 271,
      "outputs": [
        {
          "output_type": "stream",
          "name": "stdout",
          "text": [
            "                  precision    recall  f1-score   support\n",
            "\n",
            "        Contains       0.97      0.87      0.92        39\n",
            "Does not contain       0.81      0.96      0.88        23\n",
            "\n",
            "        accuracy                           0.90        62\n",
            "       macro avg       0.89      0.91      0.90        62\n",
            "    weighted avg       0.91      0.90      0.90        62\n",
            "\n"
          ]
        }
      ]
    },
    {
      "cell_type": "markdown",
      "source": [
        "# Logistic Regression"
      ],
      "metadata": {
        "id": "sRRsw19h5l20"
      }
    },
    {
      "cell_type": "markdown",
      "source": [
        "## TF IDF"
      ],
      "metadata": {
        "id": "YdALelNYs-zC"
      }
    },
    {
      "cell_type": "code",
      "source": [
        "from sklearn.linear_model import LogisticRegression\n",
        "log = LogisticRegression(random_state=0).fit(trainf, target_train)\n",
        "log_pred=log.predict(testf)\n",
        "from sklearn.metrics import classification_report\n",
        "print(classification_report(target_test, log_pred))\n"
      ],
      "metadata": {
        "id": "xHEqnwoKb9Ci",
        "colab": {
          "base_uri": "https://localhost:8080/"
        },
        "outputId": "934191ce-3ada-4698-fbd8-883a3ed18866"
      },
      "execution_count": 272,
      "outputs": [
        {
          "output_type": "stream",
          "name": "stdout",
          "text": [
            "                  precision    recall  f1-score   support\n",
            "\n",
            "        Contains       0.97      1.00      0.99        39\n",
            "Does not contain       1.00      0.96      0.98        23\n",
            "\n",
            "        accuracy                           0.98        62\n",
            "       macro avg       0.99      0.98      0.98        62\n",
            "    weighted avg       0.98      0.98      0.98        62\n",
            "\n"
          ]
        }
      ]
    },
    {
      "cell_type": "code",
      "source": [
        "conf_matrix = confusion_matrix(target_test, log_pred)\n",
        "\n",
        "# Create a heatmap using seaborn\n",
        "plt.figure(figsize=(4, 2))\n",
        "sns.heatmap(conf_matrix, annot=True, fmt='d', cmap='Blues',\n",
        "            xticklabels=log.classes_,\n",
        "            yticklabels=log.classes_)\n",
        "plt.xlabel('Predicted')\n",
        "plt.ylabel('True')\n",
        "plt.title('Confusion Matrix Heatmap')\n",
        "plt.show()"
      ],
      "metadata": {
        "colab": {
          "base_uri": "https://localhost:8080/",
          "height": 256
        },
        "id": "F2B_QboLtQin",
        "outputId": "5eee286a-8e1c-4d34-a426-54a870830c68"
      },
      "execution_count": 273,
      "outputs": [
        {
          "output_type": "display_data",
          "data": {
            "text/plain": [
              "<Figure size 400x200 with 2 Axes>"
            ],
            "image/png": "[encoded data removed]"
          },
          "metadata": {}
        }
      ]
    },
    {
      "cell_type": "markdown",
      "source": [
        "## Bag of Words"
      ],
      "metadata": {
        "id": "5704QtCWtW2I"
      }
    },
    {
      "cell_type": "code",
      "source": [
        "from sklearn.linear_model import LogisticRegression\n",
        "log_bow = LogisticRegression(random_state=0).fit(X_train_bow, target_train)\n",
        "log_pred_bow=log_bow.predict(X_test_bow)\n",
        "from sklearn.metrics import classification_report\n",
        "print(classification_report(target_test, log_pred_bow))\n"
      ],
      "metadata": {
        "colab": {
          "base_uri": "https://localhost:8080/"
        },
        "id": "WMablVSQYU2k",
        "outputId": "d9e5c900-de6e-4c07-a7db-422c389e0bdd"
      },
      "execution_count": 274,
      "outputs": [
        {
          "output_type": "stream",
          "name": "stdout",
          "text": [
            "                  precision    recall  f1-score   support\n",
            "\n",
            "        Contains       1.00      1.00      1.00        39\n",
            "Does not contain       1.00      1.00      1.00        23\n",
            "\n",
            "        accuracy                           1.00        62\n",
            "       macro avg       1.00      1.00      1.00        62\n",
            "    weighted avg       1.00      1.00      1.00        62\n",
            "\n"
          ]
        }
      ]
    },
    {
      "cell_type": "markdown",
      "source": [
        "# Naive Bayes"
      ],
      "metadata": {
        "id": "XAZO-J-4uoIE"
      }
    },
    {
      "cell_type": "markdown",
      "source": [
        "## TF-IDF"
      ],
      "metadata": {
        "id": "Oxs43YucZVHB"
      }
    },
    {
      "cell_type": "code",
      "source": [
        "from sklearn.naive_bayes import GaussianNB\n",
        "trainf_dense = trainf.toarray()\n",
        "testf_dense = testf.toarray()\n",
        "gnb = GaussianNB()\n",
        "gnb.fit(trainf_dense, target_train)\n",
        "y_pred4= gnb.predict(testf_dense)\n",
        "\n",
        "from sklearn.metrics import classification_report\n",
        "print(classification_report(target_test, y_pred))"
      ],
      "metadata": {
        "id": "0_1q6FJNb-qB",
        "colab": {
          "base_uri": "https://localhost:8080/"
        },
        "outputId": "b8a525f1-03d1-4b06-f2f3-1ca5b6e1cbef"
      },
      "execution_count": 275,
      "outputs": [
        {
          "output_type": "stream",
          "name": "stdout",
          "text": [
            "                  precision    recall  f1-score   support\n",
            "\n",
            "        Contains       1.00      1.00      1.00        39\n",
            "Does not contain       1.00      1.00      1.00        23\n",
            "\n",
            "        accuracy                           1.00        62\n",
            "       macro avg       1.00      1.00      1.00        62\n",
            "    weighted avg       1.00      1.00      1.00        62\n",
            "\n"
          ]
        }
      ]
    },
    {
      "cell_type": "markdown",
      "source": [
        "## Bag of Words"
      ],
      "metadata": {
        "id": "BS2B9r8uuvY9"
      }
    },
    {
      "cell_type": "code",
      "source": [
        "from sklearn.naive_bayes import GaussianNB\n",
        "trainf_bow = X_train_bow.toarray()\n",
        "testf_bow = X_test_bow.toarray()\n",
        "\n",
        "gnb = GaussianNB()\n",
        "gnb.fit(trainf_bow, target_train)\n",
        "y_pred4_bow = gnb.predict(testf_bow)\n",
        "\n",
        "from sklearn.metrics import classification_report\n",
        "print(classification_report(target_test, y_pred))"
      ],
      "metadata": {
        "colab": {
          "base_uri": "https://localhost:8080/"
        },
        "id": "V7cVGKdyUSrC",
        "outputId": "2e4c3289-dd91-4743-e56f-d70b68b869ca"
      },
      "execution_count": 276,
      "outputs": [
        {
          "output_type": "stream",
          "name": "stdout",
          "text": [
            "                  precision    recall  f1-score   support\n",
            "\n",
            "        Contains       1.00      1.00      1.00        39\n",
            "Does not contain       1.00      1.00      1.00        23\n",
            "\n",
            "        accuracy                           1.00        62\n",
            "       macro avg       1.00      1.00      1.00        62\n",
            "    weighted avg       1.00      1.00      1.00        62\n",
            "\n"
          ]
        }
      ]
    },
    {
      "cell_type": "markdown",
      "source": [
        "# Optical Character Recognition"
      ],
      "metadata": {
        "id": "PgrUeYICuzCa"
      }
    },
    {
      "cell_type": "code",
      "source": [
        "pip install easyocr"
      ],
      "metadata": {
        "id": "BOZC-0n7fahB",
        "colab": {
          "base_uri": "https://localhost:8080/"
        },
        "outputId": "0175f01f-56e7-455d-c195-6392ec820665"
      },
      "execution_count": 277,
      "outputs": [
        {
          "output_type": "stream",
          "name": "stdout",
          "text": [
            "Requirement already satisfied: easyocr in /usr/local/lib/python3.10/dist-packages (1.7.0)\n",
            "Requirement already satisfied: torch in /usr/local/lib/python3.10/dist-packages (from easyocr) (2.0.1+cu118)\n",
            "Requirement already satisfied: torchvision>=0.5 in /usr/local/lib/python3.10/dist-packages (from easyocr) (0.15.2+cu118)\n",
            "Requirement already satisfied: opencv-python-headless in /usr/local/lib/python3.10/dist-packages (from easyocr) (4.8.0.76)\n",
            "Requirement already satisfied: scipy in /usr/local/lib/python3.10/dist-packages (from easyocr) (1.10.1)\n",
            "Requirement already satisfied: numpy in /usr/local/lib/python3.10/dist-packages (from easyocr) (1.23.5)\n",
            "Requirement already satisfied: Pillow in /usr/local/lib/python3.10/dist-packages (from easyocr) (9.4.0)\n",
            "Requirement already satisfied: scikit-image in /usr/local/lib/python3.10/dist-packages (from easyocr) (0.19.3)\n",
            "Requirement already satisfied: python-bidi in /usr/local/lib/python3.10/dist-packages (from easyocr) (0.4.2)\n",
            "Requirement already satisfied: PyYAML in /usr/local/lib/python3.10/dist-packages (from easyocr) (6.0.1)\n",
            "Requirement already satisfied: Shapely in /usr/local/lib/python3.10/dist-packages (from easyocr) (2.0.1)\n",
            "Requirement already satisfied: pyclipper in /usr/local/lib/python3.10/dist-packages (from easyocr) (1.3.0.post4)\n",
            "Requirement already satisfied: ninja in /usr/local/lib/python3.10/dist-packages (from easyocr) (1.11.1)\n",
            "Requirement already satisfied: requests in /usr/local/lib/python3.10/dist-packages (from torchvision>=0.5->easyocr) (2.31.0)\n",
            "Requirement already satisfied: filelock in /usr/local/lib/python3.10/dist-packages (from torch->easyocr) (3.12.2)\n",
            "Requirement already satisfied: typing-extensions in /usr/local/lib/python3.10/dist-packages (from torch->easyocr) (4.7.1)\n",
            "Requirement already satisfied: sympy in /usr/local/lib/python3.10/dist-packages (from torch->easyocr) (1.12)\n",
            "Requirement already satisfied: networkx in /usr/local/lib/python3.10/dist-packages (from torch->easyocr) (3.1)\n",
            "Requirement already satisfied: jinja2 in /usr/local/lib/python3.10/dist-packages (from torch->easyocr) (3.1.2)\n",
            "Requirement already satisfied: triton==2.0.0 in /usr/local/lib/python3.10/dist-packages (from torch->easyocr) (2.0.0)\n",
            "Requirement already satisfied: cmake in /usr/local/lib/python3.10/dist-packages (from triton==2.0.0->torch->easyocr) (3.27.2)\n",
            "Requirement already satisfied: lit in /usr/local/lib/python3.10/dist-packages (from triton==2.0.0->torch->easyocr) (16.0.6)\n",
            "Requirement already satisfied: six in /usr/local/lib/python3.10/dist-packages (from python-bidi->easyocr) (1.16.0)\n",
            "Requirement already satisfied: imageio>=2.4.1 in /usr/local/lib/python3.10/dist-packages (from scikit-image->easyocr) (2.31.1)\n",
            "Requirement already satisfied: tifffile>=2019.7.26 in /usr/local/lib/python3.10/dist-packages (from scikit-image->easyocr) (2023.8.12)\n",
            "Requirement already satisfied: PyWavelets>=1.1.1 in /usr/local/lib/python3.10/dist-packages (from scikit-image->easyocr) (1.4.1)\n",
            "Requirement already satisfied: packaging>=20.0 in /usr/local/lib/python3.10/dist-packages (from scikit-image->easyocr) (23.1)\n",
            "Requirement already satisfied: MarkupSafe>=2.0 in /usr/local/lib/python3.10/dist-packages (from jinja2->torch->easyocr) (2.1.3)\n",
            "Requirement already satisfied: charset-normalizer<4,>=2 in /usr/local/lib/python3.10/dist-packages (from requests->torchvision>=0.5->easyocr) (3.2.0)\n",
            "Requirement already satisfied: idna<4,>=2.5 in /usr/local/lib/python3.10/dist-packages (from requests->torchvision>=0.5->easyocr) (3.4)\n",
            "Requirement already satisfied: urllib3<3,>=1.21.1 in /usr/local/lib/python3.10/dist-packages (from requests->torchvision>=0.5->easyocr) (2.0.4)\n",
            "Requirement already satisfied: certifi>=2017.4.17 in /usr/local/lib/python3.10/dist-packages (from requests->torchvision>=0.5->easyocr) (2023.7.22)\n",
            "Requirement already satisfied: mpmath>=0.19 in /usr/local/lib/python3.10/dist-packages (from sympy->torch->easyocr) (1.3.0)\n"
          ]
        }
      ]
    },
    {
      "cell_type": "code",
      "source": [
        " import easyocr"
      ],
      "metadata": {
        "id": "iOASHP5LgsOD"
      },
      "execution_count": 278,
      "outputs": []
    },
    {
      "cell_type": "code",
      "source": [
        "image_path = '/content/gdrive/MyDrive/Food Ingredient/image/i1.jpeg'  # Replace 'your_image_path.jpg' with the path to your image\n",
        "reader = easyocr.Reader(['en'])"
      ],
      "metadata": {
        "id": "rHbMaEBAhDvw",
        "colab": {
          "base_uri": "https://localhost:8080/"
        },
        "outputId": "46a658e9-a53a-4f28-8e24-c62007b078fa"
      },
      "execution_count": 279,
      "outputs": [
        {
          "output_type": "stream",
          "name": "stderr",
          "text": [
            "WARNING:easyocr.easyocr:Neither CUDA nor MPS are available - defaulting to CPU. Note: This module is much faster with a GPU.\n"
          ]
        }
      ]
    },
    {
      "cell_type": "code",
      "source": [
        "result = reader.readtext(\"/content/gdrive/MyDrive/Food Ingredient/image/i1.jpeg\")\n",
        "print(result)"
      ],
      "metadata": {
        "id": "QBNqL6D8herQ",
        "colab": {
          "base_uri": "https://localhost:8080/"
        },
        "outputId": "392aa49a-2368-4249-f25d-057b24e6cb30"
      },
      "execution_count": 280,
      "outputs": [
        {
          "output_type": "stream",
          "name": "stdout",
          "text": [
            "[([[29, 17], [237, 17], [237, 37], [29, 37]], 'Low FAT VANILLA FLAVOURED YOGHURT', 0.6074412480101483), ([[33, 37], [243, 37], [243, 55], [33, 55]], 'INGREDIENTS: Skim Milk , Concentrated', 0.6106790743927399), ([[33, 51], [237, 51], [237, 72], [33, 72]], 'Skim Wilk, Water; Sugar; Cream (From', 0.6179797558863088), ([[31, 67], [237, 67], [237, 85], [31, 85]], 'Milk) , Thickeners (1422 (Fromn Maize) ,', 0.8332731861006651), ([[33, 83], [139, 83], [139, 101], [33, 101]], '1442 (From Maize))', 0.9351203256894874), ([[143, 85], [205, 85], [205, 101], [143, 101]], 'Milk Solids_', 0.47242193282649775), ([[33, 99], [235, 99], [235, 117], [33, 117]], 'Gelatine; Flavours, Acidity Regulators', 0.8661368156452012), ([[33, 113], [193, 113], [193, 131], [33, 131]], '(331,332,270,330), Enzyme', 0.9344634195352799), ([[33, 131], [165, 131], [165, 147], [33, 147]], '(Lactase) , Live Cultures:', 0.7754419734197697), ([[33, 147], [203, 147], [203, 165], [33, 165]], 'Contains Milk and Milk Products:', 0.740025202270697)]\n"
          ]
        }
      ]
    },
    {
      "cell_type": "code",
      "source": [
        "detected_texts = [detection[1] for detection in result]\n",
        "\n",
        "# Concatenate all the detected texts into a single string\n",
        "final_result = \", \".join(detected_texts)\n",
        "\n",
        "# Print the concatenated final result\n",
        "print(final_result)"
      ],
      "metadata": {
        "id": "L-sCLSmP5DMX",
        "colab": {
          "base_uri": "https://localhost:8080/"
        },
        "outputId": "81dc944d-4fce-414c-83d2-5f5cd67f7c47"
      },
      "execution_count": 281,
      "outputs": [
        {
          "output_type": "stream",
          "name": "stdout",
          "text": [
            "Low FAT VANILLA FLAVOURED YOGHURT, INGREDIENTS: Skim Milk , Concentrated, Skim Wilk, Water; Sugar; Cream (From, Milk) , Thickeners (1422 (Fromn Maize) ,, 1442 (From Maize)), Milk Solids_, Gelatine; Flavours, Acidity Regulators, (331,332,270,330), Enzyme, (Lactase) , Live Cultures:, Contains Milk and Milk Products:\n"
          ]
        }
      ]
    },
    {
      "cell_type": "code",
      "source": [
        "STRING = final_result\n",
        "\n",
        "# Split the string into rows using commas as delimiters\n",
        "parts = STRING.split(',')\n",
        "parts = [part.split(';') for part in parts]\n",
        "\n",
        "# Flatten the list\n",
        "rows = [item for sublist in parts for item in sublist]\n",
        "\n",
        "# Now, we will have a list where each string is separated by ',' and '-'\n",
        "print(rows)\n",
        "\n",
        "# Create a list to store the data for each row\n",
        "data = []\n",
        "\n",
        "# Loop through each row and clean the data\n",
        "for row in rows:\n",
        "    data.append(row.strip())\n",
        "\n",
        "# Concatenate all the rows into a single string\n",
        "combined_data = ', '.join(data)\n",
        "\n",
        "# Create a DataFrame with a single row containing the combined data\n",
        "ocr_text = pd.DataFrame([combined_data], columns=['Combined Data'])\n",
        "\n",
        "# Display the DataFrame\n",
        "print(ocr_text)\n"
      ],
      "metadata": {
        "id": "jiqpfkW8u6Ge",
        "colab": {
          "base_uri": "https://localhost:8080/"
        },
        "outputId": "9cba6d18-f2c1-4848-d4c6-38ee85923cd7"
      },
      "execution_count": 282,
      "outputs": [
        {
          "output_type": "stream",
          "name": "stdout",
          "text": [
            "['Low FAT VANILLA FLAVOURED YOGHURT', ' INGREDIENTS: Skim Milk ', ' Concentrated', ' Skim Wilk', ' Water', ' Sugar', ' Cream (From', ' Milk) ', ' Thickeners (1422 (Fromn Maize) ', '', ' 1442 (From Maize))', ' Milk Solids_', ' Gelatine', ' Flavours', ' Acidity Regulators', ' (331', '332', '270', '330)', ' Enzyme', ' (Lactase) ', ' Live Cultures:', ' Contains Milk and Milk Products:']\n",
            "                                       Combined Data\n",
            "0  Low FAT VANILLA FLAVOURED YOGHURT, INGREDIENTS...\n"
          ]
        }
      ]
    },
    {
      "cell_type": "code",
      "source": [
        "ocr_text.head()"
      ],
      "metadata": {
        "id": "rg-GOm4-xxjN",
        "colab": {
          "base_uri": "https://localhost:8080/",
          "height": 89
        },
        "outputId": "b70f7272-4340-4b0d-bdf3-ead186564845"
      },
      "execution_count": 283,
      "outputs": [
        {
          "output_type": "execute_result",
          "data": {
            "text/plain": [
              "                                       Combined Data\n",
              "0  Low FAT VANILLA FLAVOURED YOGHURT, INGREDIENTS..."
            ],
            "text/html": [
              "\n",
              "  <div id=\"df-1c90fc46-be67-48e9-8488-4fbceb63fb3c\" class=\"colab-df-container\">\n",
              "    <div>\n",
              "<style scoped>\n",
              "    .dataframe tbody tr th:only-of-type {\n",
              "        vertical-align: middle;\n",
              "    }\n",
              "\n",
              "    .dataframe tbody tr th {\n",
              "        vertical-align: top;\n",
              "    }\n",
              "\n",
              "    .dataframe thead th {\n",
              "        text-align: right;\n",
              "    }\n",
              "</style>\n",
              "<table border=\"1\" class=\"dataframe\">\n",
              "  <thead>\n",
              "    <tr style=\"text-align: right;\">\n",
              "      <th></th>\n",
              "      <th>Combined Data</th>\n",
              "    </tr>\n",
              "  </thead>\n",
              "  <tbody>\n",
              "    <tr>\n",
              "      <th>0</th>\n",
              "      <td>Low FAT VANILLA FLAVOURED YOGHURT, INGREDIENTS...</td>\n",
              "    </tr>\n",
              "  </tbody>\n",
              "</table>\n",
              "</div>\n",
              "    <div class=\"colab-df-buttons\">\n",
              "\n",
              "  <div class=\"colab-df-container\">\n",
              "    <button class=\"colab-df-convert\" onclick=\"convertToInteractive('df-1c90fc46-be67-48e9-8488-4fbceb63fb3c')\"\n",
              "            title=\"Convert this dataframe to an interactive table.\"\n",
              "            style=\"display:none;\">\n",
              "\n",
              "  <svg xmlns=\"http://www.w3.org/2000/svg\" height=\"24px\" viewBox=\"0 -960 960 960\">\n",
              "    <path d=\"M120-120v-720h720v720H120Zm60-500h600v-160H180v160Zm220 220h160v-160H400v160Zm0 220h160v-160H400v160ZM180-400h160v-160H180v160Zm440 0h160v-160H620v160ZM180-180h160v-160H180v160Zm440 0h160v-160H620v160Z\"/>\n",
              "  </svg>\n",
              "    </button>\n",
              "\n",
              "  <style>\n",
              "    .colab-df-container {\n",
              "      display:flex;\n",
              "      gap: 12px;\n",
              "    }\n",
              "\n",
              "    .colab-df-convert {\n",
              "      background-color: #E8F0FE;\n",
              "      border: none;\n",
              "      border-radius: 50%;\n",
              "      cursor: pointer;\n",
              "      display: none;\n",
              "      fill: #1967D2;\n",
              "      height: 32px;\n",
              "      padding: 0 0 0 0;\n",
              "      width: 32px;\n",
              "    }\n",
              "\n",
              "    .colab-df-convert:hover {\n",
              "      background-color: #E2EBFA;\n",
              "      box-shadow: 0px 1px 2px rgba(60, 64, 67, 0.3), 0px 1px 3px 1px rgba(60, 64, 67, 0.15);\n",
              "      fill: #174EA6;\n",
              "    }\n",
              "\n",
              "    .colab-df-buttons div {\n",
              "      margin-bottom: 4px;\n",
              "    }\n",
              "\n",
              "    [theme=dark] .colab-df-convert {\n",
              "      background-color: #3B4455;\n",
              "      fill: #D2E3FC;\n",
              "    }\n",
              "\n",
              "    [theme=dark] .colab-df-convert:hover {\n",
              "      background-color: #434B5C;\n",
              "      box-shadow: 0px 1px 3px 1px rgba(0, 0, 0, 0.15);\n",
              "      filter: drop-shadow(0px 1px 2px rgba(0, 0, 0, 0.3));\n",
              "      fill: #FFFFFF;\n",
              "    }\n",
              "  </style>\n",
              "\n",
              "    <script>\n",
              "      const buttonEl =\n",
              "        document.querySelector('#df-1c90fc46-be67-48e9-8488-4fbceb63fb3c button.colab-df-convert');\n",
              "      buttonEl.style.display =\n",
              "        google.colab.kernel.accessAllowed ? 'block' : 'none';\n",
              "\n",
              "      async function convertToInteractive(key) {\n",
              "        const element = document.querySelector('#df-1c90fc46-be67-48e9-8488-4fbceb63fb3c');\n",
              "        const dataTable =\n",
              "          await google.colab.kernel.invokeFunction('convertToInteractive',\n",
              "                                                    [key], {});\n",
              "        if (!dataTable) return;\n",
              "\n",
              "        const docLinkHtml = 'Like what you see? Visit the ' +\n",
              "          '<a target=\"_blank\" href=https://colab.research.google.com/notebooks/data_table.ipynb>data table notebook</a>'\n",
              "          + ' to learn more about interactive tables.';\n",
              "        element.innerHTML = '';\n",
              "        dataTable['output_type'] = 'display_data';\n",
              "        await google.colab.output.renderOutput(dataTable, element);\n",
              "        const docLink = document.createElement('div');\n",
              "        docLink.innerHTML = docLinkHtml;\n",
              "        element.appendChild(docLink);\n",
              "      }\n",
              "    </script>\n",
              "  </div>\n",
              "\n",
              "\n",
              "<div id=\"df-7c7e96b4-23ca-40d4-8fa4-6b3f551bfa24\">\n",
              "  <button class=\"colab-df-quickchart\" onclick=\"quickchart('df-7c7e96b4-23ca-40d4-8fa4-6b3f551bfa24')\"\n",
              "            title=\"Suggest charts.\"\n",
              "            style=\"display:none;\">\n",
              "\n",
              "<svg xmlns=\"http://www.w3.org/2000/svg\" height=\"24px\"viewBox=\"0 0 24 24\"\n",
              "     width=\"24px\">\n",
              "    <g>\n",
              "        <path d=\"M19 3H5c-1.1 0-2 .9-2 2v14c0 1.1.9 2 2 2h14c1.1 0 2-.9 2-2V5c0-1.1-.9-2-2-2zM9 17H7v-7h2v7zm4 0h-2V7h2v10zm4 0h-2v-4h2v4z\"/>\n",
              "    </g>\n",
              "</svg>\n",
              "  </button>\n",
              "\n",
              "<style>\n",
              "  .colab-df-quickchart {\n",
              "    background-color: #E8F0FE;\n",
              "    border: none;\n",
              "    border-radius: 50%;\n",
              "    cursor: pointer;\n",
              "    display: none;\n",
              "    fill: #1967D2;\n",
              "    height: 32px;\n",
              "    padding: 0 0 0 0;\n",
              "    width: 32px;\n",
              "  }\n",
              "\n",
              "  .colab-df-quickchart:hover {\n",
              "    background-color: #E2EBFA;\n",
              "    box-shadow: 0px 1px 2px rgba(60, 64, 67, 0.3), 0px 1px 3px 1px rgba(60, 64, 67, 0.15);\n",
              "    fill: #174EA6;\n",
              "  }\n",
              "\n",
              "  [theme=dark] .colab-df-quickchart {\n",
              "    background-color: #3B4455;\n",
              "    fill: #D2E3FC;\n",
              "  }\n",
              "\n",
              "  [theme=dark] .colab-df-quickchart:hover {\n",
              "    background-color: #434B5C;\n",
              "    box-shadow: 0px 1px 3px 1px rgba(0, 0, 0, 0.15);\n",
              "    filter: drop-shadow(0px 1px 2px rgba(0, 0, 0, 0.3));\n",
              "    fill: #FFFFFF;\n",
              "  }\n",
              "</style>\n",
              "\n",
              "  <script>\n",
              "    async function quickchart(key) {\n",
              "      const charts = await google.colab.kernel.invokeFunction(\n",
              "          'suggestCharts', [key], {});\n",
              "    }\n",
              "    (() => {\n",
              "      let quickchartButtonEl =\n",
              "        document.querySelector('#df-7c7e96b4-23ca-40d4-8fa4-6b3f551bfa24 button');\n",
              "      quickchartButtonEl.style.display =\n",
              "        google.colab.kernel.accessAllowed ? 'block' : 'none';\n",
              "    })();\n",
              "  </script>\n",
              "</div>\n",
              "    </div>\n",
              "  </div>\n"
            ]
          },
          "metadata": {},
          "execution_count": 283
        }
      ]
    },
    {
      "cell_type": "markdown",
      "source": [
        "# Preprocessing of extracted text data"
      ],
      "metadata": {
        "id": "WmYb0sLXvJ5U"
      }
    },
    {
      "cell_type": "code",
      "source": [
        "import nltk\n",
        "from nltk.tokenize import RegexpTokenizer\n",
        "from nltk.stem import WordNetLemmatizer,PorterStemmer\n",
        "from nltk.corpus import stopwords\n",
        "import re\n",
        "lemmatizer = WordNetLemmatizer()\n",
        "stemmer = PorterStemmer()"
      ],
      "metadata": {
        "id": "WQawEzEqh1Va"
      },
      "execution_count": 284,
      "outputs": []
    },
    {
      "cell_type": "code",
      "source": [
        "  >>> import nltk\n",
        "  >>> nltk.download('stopwords')\n",
        "\n",
        "  >>> import nltk\n",
        "  >>> nltk.download('wordnet')"
      ],
      "metadata": {
        "id": "l7eQoMHxlFrc",
        "colab": {
          "base_uri": "https://localhost:8080/"
        },
        "outputId": "dda6caec-a398-4fad-f3cd-35b2b7aee882"
      },
      "execution_count": 285,
      "outputs": [
        {
          "output_type": "stream",
          "name": "stderr",
          "text": [
            "[nltk_data] Downloading package stopwords to /root/nltk_data...\n",
            "[nltk_data]   Package stopwords is already up-to-date!\n",
            "[nltk_data] Downloading package wordnet to /root/nltk_data...\n",
            "[nltk_data]   Package wordnet is already up-to-date!\n"
          ]
        },
        {
          "output_type": "execute_result",
          "data": {
            "text/plain": [
              "True"
            ]
          },
          "metadata": {},
          "execution_count": 285
        }
      ]
    },
    {
      "cell_type": "code",
      "source": [
        "def preprocess(sentence):\n",
        "  sentence=str(sentence)\n",
        "  sentence = sentence.lower()\n",
        "  sentence=sentence.replace('{html}',\"\")\n",
        "  cleanr = re.compile('<.*?>:')\n",
        "  cleantext = re.sub(cleanr, '', sentence)\n",
        "  rem_url=re.sub(r'http\\S+', '',cleantext)\n",
        "  rem_num = re.sub('[0-9]+', '', rem_url)\n",
        "  tokenizer = RegexpTokenizer(r'\\w+')\n",
        "  tokens = tokenizer.tokenize(rem_num)\n",
        "  filtered_words = [w for w in tokens if len(w) > 2 if not w in stopwords.words('english') and \"amp\"]\n",
        "  stem_words=[stemmer.stem(w) for w in filtered_words]\n",
        "  lemma_words=[lemmatizer.lemmatize(w) for w in stem_words]\n",
        "  return \" \".join(filtered_words)\n",
        "ocr_text['cleanText'] = preprocess(final_result)"
      ],
      "metadata": {
        "id": "QYLHRyvyjxPu"
      },
      "execution_count": 286,
      "outputs": []
    },
    {
      "cell_type": "code",
      "source": [
        "ocr_text.head()"
      ],
      "metadata": {
        "id": "0O4gpTFvKiVp",
        "colab": {
          "base_uri": "https://localhost:8080/",
          "height": 89
        },
        "outputId": "dfda69fd-ee07-4b02-ae0a-baa57b2ff8ae"
      },
      "execution_count": 287,
      "outputs": [
        {
          "output_type": "execute_result",
          "data": {
            "text/plain": [
              "                                       Combined Data  \\\n",
              "0  Low FAT VANILLA FLAVOURED YOGHURT, INGREDIENTS...   \n",
              "\n",
              "                                           cleanText  \n",
              "0  low fat vanilla flavoured yoghurt ingredients ...  "
            ],
            "text/html": [
              "\n",
              "  <div id=\"df-26af22aa-3d8a-4d40-8c1b-3777311317ac\" class=\"colab-df-container\">\n",
              "    <div>\n",
              "<style scoped>\n",
              "    .dataframe tbody tr th:only-of-type {\n",
              "        vertical-align: middle;\n",
              "    }\n",
              "\n",
              "    .dataframe tbody tr th {\n",
              "        vertical-align: top;\n",
              "    }\n",
              "\n",
              "    .dataframe thead th {\n",
              "        text-align: right;\n",
              "    }\n",
              "</style>\n",
              "<table border=\"1\" class=\"dataframe\">\n",
              "  <thead>\n",
              "    <tr style=\"text-align: right;\">\n",
              "      <th></th>\n",
              "      <th>Combined Data</th>\n",
              "      <th>cleanText</th>\n",
              "    </tr>\n",
              "  </thead>\n",
              "  <tbody>\n",
              "    <tr>\n",
              "      <th>0</th>\n",
              "      <td>Low FAT VANILLA FLAVOURED YOGHURT, INGREDIENTS...</td>\n",
              "      <td>low fat vanilla flavoured yoghurt ingredients ...</td>\n",
              "    </tr>\n",
              "  </tbody>\n",
              "</table>\n",
              "</div>\n",
              "    <div class=\"colab-df-buttons\">\n",
              "\n",
              "  <div class=\"colab-df-container\">\n",
              "    <button class=\"colab-df-convert\" onclick=\"convertToInteractive('df-26af22aa-3d8a-4d40-8c1b-3777311317ac')\"\n",
              "            title=\"Convert this dataframe to an interactive table.\"\n",
              "            style=\"display:none;\">\n",
              "\n",
              "  <svg xmlns=\"http://www.w3.org/2000/svg\" height=\"24px\" viewBox=\"0 -960 960 960\">\n",
              "    <path d=\"M120-120v-720h720v720H120Zm60-500h600v-160H180v160Zm220 220h160v-160H400v160Zm0 220h160v-160H400v160ZM180-400h160v-160H180v160Zm440 0h160v-160H620v160ZM180-180h160v-160H180v160Zm440 0h160v-160H620v160Z\"/>\n",
              "  </svg>\n",
              "    </button>\n",
              "\n",
              "  <style>\n",
              "    .colab-df-container {\n",
              "      display:flex;\n",
              "      gap: 12px;\n",
              "    }\n",
              "\n",
              "    .colab-df-convert {\n",
              "      background-color: #E8F0FE;\n",
              "      border: none;\n",
              "      border-radius: 50%;\n",
              "      cursor: pointer;\n",
              "      display: none;\n",
              "      fill: #1967D2;\n",
              "      height: 32px;\n",
              "      padding: 0 0 0 0;\n",
              "      width: 32px;\n",
              "    }\n",
              "\n",
              "    .colab-df-convert:hover {\n",
              "      background-color: #E2EBFA;\n",
              "      box-shadow: 0px 1px 2px rgba(60, 64, 67, 0.3), 0px 1px 3px 1px rgba(60, 64, 67, 0.15);\n",
              "      fill: #174EA6;\n",
              "    }\n",
              "\n",
              "    .colab-df-buttons div {\n",
              "      margin-bottom: 4px;\n",
              "    }\n",
              "\n",
              "    [theme=dark] .colab-df-convert {\n",
              "      background-color: #3B4455;\n",
              "      fill: #D2E3FC;\n",
              "    }\n",
              "\n",
              "    [theme=dark] .colab-df-convert:hover {\n",
              "      background-color: #434B5C;\n",
              "      box-shadow: 0px 1px 3px 1px rgba(0, 0, 0, 0.15);\n",
              "      filter: drop-shadow(0px 1px 2px rgba(0, 0, 0, 0.3));\n",
              "      fill: #FFFFFF;\n",
              "    }\n",
              "  </style>\n",
              "\n",
              "    <script>\n",
              "      const buttonEl =\n",
              "        document.querySelector('#df-26af22aa-3d8a-4d40-8c1b-3777311317ac button.colab-df-convert');\n",
              "      buttonEl.style.display =\n",
              "        google.colab.kernel.accessAllowed ? 'block' : 'none';\n",
              "\n",
              "      async function convertToInteractive(key) {\n",
              "        const element = document.querySelector('#df-26af22aa-3d8a-4d40-8c1b-3777311317ac');\n",
              "        const dataTable =\n",
              "          await google.colab.kernel.invokeFunction('convertToInteractive',\n",
              "                                                    [key], {});\n",
              "        if (!dataTable) return;\n",
              "\n",
              "        const docLinkHtml = 'Like what you see? Visit the ' +\n",
              "          '<a target=\"_blank\" href=https://colab.research.google.com/notebooks/data_table.ipynb>data table notebook</a>'\n",
              "          + ' to learn more about interactive tables.';\n",
              "        element.innerHTML = '';\n",
              "        dataTable['output_type'] = 'display_data';\n",
              "        await google.colab.output.renderOutput(dataTable, element);\n",
              "        const docLink = document.createElement('div');\n",
              "        docLink.innerHTML = docLinkHtml;\n",
              "        element.appendChild(docLink);\n",
              "      }\n",
              "    </script>\n",
              "  </div>\n",
              "\n",
              "\n",
              "<div id=\"df-2a37b7cf-379b-4671-9f6d-8024b0d82991\">\n",
              "  <button class=\"colab-df-quickchart\" onclick=\"quickchart('df-2a37b7cf-379b-4671-9f6d-8024b0d82991')\"\n",
              "            title=\"Suggest charts.\"\n",
              "            style=\"display:none;\">\n",
              "\n",
              "<svg xmlns=\"http://www.w3.org/2000/svg\" height=\"24px\"viewBox=\"0 0 24 24\"\n",
              "     width=\"24px\">\n",
              "    <g>\n",
              "        <path d=\"M19 3H5c-1.1 0-2 .9-2 2v14c0 1.1.9 2 2 2h14c1.1 0 2-.9 2-2V5c0-1.1-.9-2-2-2zM9 17H7v-7h2v7zm4 0h-2V7h2v10zm4 0h-2v-4h2v4z\"/>\n",
              "    </g>\n",
              "</svg>\n",
              "  </button>\n",
              "\n",
              "<style>\n",
              "  .colab-df-quickchart {\n",
              "    background-color: #E8F0FE;\n",
              "    border: none;\n",
              "    border-radius: 50%;\n",
              "    cursor: pointer;\n",
              "    display: none;\n",
              "    fill: #1967D2;\n",
              "    height: 32px;\n",
              "    padding: 0 0 0 0;\n",
              "    width: 32px;\n",
              "  }\n",
              "\n",
              "  .colab-df-quickchart:hover {\n",
              "    background-color: #E2EBFA;\n",
              "    box-shadow: 0px 1px 2px rgba(60, 64, 67, 0.3), 0px 1px 3px 1px rgba(60, 64, 67, 0.15);\n",
              "    fill: #174EA6;\n",
              "  }\n",
              "\n",
              "  [theme=dark] .colab-df-quickchart {\n",
              "    background-color: #3B4455;\n",
              "    fill: #D2E3FC;\n",
              "  }\n",
              "\n",
              "  [theme=dark] .colab-df-quickchart:hover {\n",
              "    background-color: #434B5C;\n",
              "    box-shadow: 0px 1px 3px 1px rgba(0, 0, 0, 0.15);\n",
              "    filter: drop-shadow(0px 1px 2px rgba(0, 0, 0, 0.3));\n",
              "    fill: #FFFFFF;\n",
              "  }\n",
              "</style>\n",
              "\n",
              "  <script>\n",
              "    async function quickchart(key) {\n",
              "      const charts = await google.colab.kernel.invokeFunction(\n",
              "          'suggestCharts', [key], {});\n",
              "    }\n",
              "    (() => {\n",
              "      let quickchartButtonEl =\n",
              "        document.querySelector('#df-2a37b7cf-379b-4671-9f6d-8024b0d82991 button');\n",
              "      quickchartButtonEl.style.display =\n",
              "        google.colab.kernel.accessAllowed ? 'block' : 'none';\n",
              "    })();\n",
              "  </script>\n",
              "</div>\n",
              "    </div>\n",
              "  </div>\n"
            ]
          },
          "metadata": {},
          "execution_count": 287
        }
      ]
    },
    {
      "cell_type": "markdown",
      "source": [
        "# Testing the model with preprocessed text data from image"
      ],
      "metadata": {
        "id": "uLESwvwKvUIK"
      }
    },
    {
      "cell_type": "code",
      "source": [
        "newfeatures = vectorizer.transform(ocr_text['cleanText'])\n",
        "pred=log.predict(newfeatures)\n",
        "pred"
      ],
      "metadata": {
        "id": "-T-UPLBg-KBt",
        "colab": {
          "base_uri": "https://localhost:8080/"
        },
        "outputId": "0e3a92b1-1109-4857-ae7c-c7975566d5c2"
      },
      "execution_count": 288,
      "outputs": [
        {
          "output_type": "execute_result",
          "data": {
            "text/plain": [
              "array(['Contains'], dtype=object)"
            ]
          },
          "metadata": {},
          "execution_count": 288
        }
      ]
    },
    {
      "cell_type": "code",
      "source": [
        "pip install tabulate\n"
      ],
      "metadata": {
        "colab": {
          "base_uri": "https://localhost:8080/"
        },
        "id": "BU5K_cT66jYv",
        "outputId": "71d972ed-b928-451a-a94a-10461fdca179"
      },
      "execution_count": 289,
      "outputs": [
        {
          "output_type": "stream",
          "name": "stdout",
          "text": [
            "Requirement already satisfied: tabulate in /usr/local/lib/python3.10/dist-packages (0.9.0)\n"
          ]
        }
      ]
    },
    {
      "cell_type": "code",
      "source": [
        "import pandas as pd\n",
        "from tabulate import tabulate\n",
        "\n",
        "# Transform the new features using the same vectorizer\n",
        "newfeatures = vectorizer.transform(ocr_text['cleanText'])\n",
        "\n",
        "# Predict labels for the new features\n",
        "pred = log.predict(newfeatures)\n",
        "\n",
        "# Create a DataFrame to store the results\n",
        "results_df = pd.DataFrame({\n",
        "    'Input Data': ocr_text['cleanText'],  # Assuming 'cleanText' is the column with input data\n",
        "    'Predicted Label': pred\n",
        "})\n",
        "\n",
        "# Convert the DataFrame to a tabulated format\n",
        "tabulated_results = tabulate(results_df, headers='keys', tablefmt='pretty')\n",
        "\n",
        "# Print the tabulated results\n",
        "print(tabulated_results)\n"
      ],
      "metadata": {
        "colab": {
          "base_uri": "https://localhost:8080/"
        },
        "id": "WVOvOsEX6YjE",
        "outputId": "0b4a7cb7-9246-4bd7-8d87-50c8cd583f57"
      },
      "execution_count": 290,
      "outputs": [
        {
          "output_type": "stream",
          "name": "stdout",
          "text": [
            "+---+-----------------------------------------------------------------------------------------------------------------------------------------------------------------------------------------------------------------------------------------------+-----------------+\n",
            "|   |                                                                                                                  Input Data                                                                                                                   | Predicted Label |\n",
            "+---+-----------------------------------------------------------------------------------------------------------------------------------------------------------------------------------------------------------------------------------------------+-----------------+\n",
            "| 0 | low fat vanilla flavoured yoghurt ingredients skim milk concentrated skim wilk water sugar cream milk thickeners fromn maize maize milk solids_ gelatine flavours acidity regulators enzyme lactase live cultures contains milk milk products |    Contains     |\n",
            "+---+-----------------------------------------------------------------------------------------------------------------------------------------------------------------------------------------------------------------------------------------------+-----------------+\n"
          ]
        }
      ]
    }
  ]
}